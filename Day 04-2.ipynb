{
 "cells": [
  {
   "cell_type": "markdown",
   "id": "steady-enemy",
   "metadata": {},
   "source": [
    "--- Part Two ---\n",
    "\n",
    "It seems like there is still quite a bit of duplicate work planned. Instead, the Elves would like to know the number of pairs that overlap at all.\n",
    "\n",
    "In the above example, the first two pairs (2-4,6-8 and 2-3,4-5) don't overlap, while the remaining four pairs (5-7,7-9, 2-8,3-7, 6-6,4-6, and 2-6,4-8) do overlap:\n",
    "\n",
    "5-7,7-9 overlaps in a single section, 7.\n",
    "\n",
    "2-8,3-7 overlaps all of the sections 3 through 7.\n",
    "\n",
    "6-6,4-6 overlaps in a single section, 6.\n",
    "\n",
    "2-6,4-8 overlaps in sections 4, 5, and 6.\n",
    "\n",
    "So, in this example, the number of overlapping assignment pairs is 4.\n",
    "\n",
    "**In how many assignment pairs do the ranges overlap?**"
   ]
  },
  {
   "cell_type": "code",
   "execution_count": 1,
   "id": "functional-independence",
   "metadata": {},
   "outputs": [],
   "source": [
    "def get_lines(file_type='sample'):\n",
    "    '''\n",
    "    Read in the lines of today's sample/input file line by line. \n",
    "    Assumes the file is in folder called 'inputs/'\n",
    "    \n",
    "    Parameters\n",
    "    ----------\n",
    "    file_type : str\n",
    "        Either sample or input\n",
    "    \n",
    "    Returns\n",
    "    -------\n",
    "    list of inputs stripped of whitespace\n",
    "    '''\n",
    "    import datetime\n",
    "    day = str(datetime.datetime.today().day).zfill(2)\n",
    "    filename = f'inputs/{day}-{file_type}.txt'\n",
    "    try:\n",
    "        with open(filename,'r') as file:\n",
    "            lines = [line.strip() for line in file.readlines()]\n",
    "        return lines\n",
    "    except:\n",
    "        print(filename+' does not exist')"
   ]
  },
  {
   "cell_type": "code",
   "execution_count": 2,
   "id": "occasional-price",
   "metadata": {},
   "outputs": [],
   "source": [
    "assignments = get_lines()"
   ]
  },
  {
   "cell_type": "code",
   "execution_count": 22,
   "id": "tropical-clone",
   "metadata": {},
   "outputs": [],
   "source": [
    "def get_range(elf):\n",
    "    '''\n",
    "    in part 2, returns a range object\n",
    "    '''\n",
    "    lower, upper = elf.split('-')\n",
    "    return range(int(lower),int(upper)+1)"
   ]
  },
  {
   "cell_type": "code",
   "execution_count": 23,
   "id": "surprising-indicator",
   "metadata": {},
   "outputs": [],
   "source": [
    "elf = get_range('2-4')"
   ]
  },
  {
   "cell_type": "code",
   "execution_count": 24,
   "id": "animated-breathing",
   "metadata": {},
   "outputs": [
    {
     "data": {
      "text/plain": [
       "3"
      ]
     },
     "execution_count": 24,
     "metadata": {},
     "output_type": "execute_result"
    }
   ],
   "source": [
    "len(set(elf))"
   ]
  },
  {
   "cell_type": "code",
   "execution_count": 25,
   "id": "confidential-grounds",
   "metadata": {},
   "outputs": [],
   "source": [
    "def overlaps(elf1, elf2):\n",
    "    overlap = set(elf1).intersection(elf2)\n",
    "    if len(overlap) > 0:\n",
    "        return True\n",
    "    return False"
   ]
  },
  {
   "cell_type": "code",
   "execution_count": 26,
   "id": "broadband-fundamentals",
   "metadata": {},
   "outputs": [],
   "source": [
    "def does_overlap(assignment):\n",
    "    elf1, elf2 = assignment.split(',')\n",
    "    elf1 = get_range(elf1)\n",
    "    elf2 = get_range(elf2)\n",
    "    if overlaps(elf1, elf2):\n",
    "        return True\n",
    "    return False"
   ]
  },
  {
   "cell_type": "code",
   "execution_count": 27,
   "id": "enormous-narrow",
   "metadata": {},
   "outputs": [
    {
     "data": {
      "text/plain": [
       "False"
      ]
     },
     "execution_count": 27,
     "metadata": {},
     "output_type": "execute_result"
    }
   ],
   "source": [
    "does_overlap('2-4,6-8')"
   ]
  },
  {
   "cell_type": "code",
   "execution_count": 28,
   "id": "owned-phone",
   "metadata": {},
   "outputs": [
    {
     "name": "stdout",
     "output_type": "stream",
     "text": [
      "2-4,6-8 False\n",
      "2-3,4-5 False\n",
      "5-7,7-9 True\n",
      "2-8,3-7 True\n",
      "6-6,4-6 True\n",
      "2-6,4-8 True\n"
     ]
    }
   ],
   "source": [
    "for assignment in assignments:\n",
    "    print(assignment, does_overlap(assignment))"
   ]
  },
  {
   "cell_type": "code",
   "execution_count": 30,
   "id": "aggressive-ballot",
   "metadata": {},
   "outputs": [
    {
     "data": {
      "text/plain": [
       "4"
      ]
     },
     "execution_count": 30,
     "metadata": {},
     "output_type": "execute_result"
    }
   ],
   "source": [
    "sum([does_overlap(assignment) for assignment in assignments])"
   ]
  },
  {
   "cell_type": "code",
   "execution_count": 31,
   "id": "signed-liquid",
   "metadata": {},
   "outputs": [],
   "source": [
    "assignments = get_lines(file_type='input')"
   ]
  },
  {
   "cell_type": "code",
   "execution_count": 32,
   "id": "common-individual",
   "metadata": {},
   "outputs": [
    {
     "data": {
      "text/plain": [
       "911"
      ]
     },
     "execution_count": 32,
     "metadata": {},
     "output_type": "execute_result"
    }
   ],
   "source": [
    "sum([does_overlap(assignment) for assignment in assignments])"
   ]
  },
  {
   "cell_type": "code",
   "execution_count": null,
   "id": "veterinary-dynamics",
   "metadata": {},
   "outputs": [],
   "source": []
  }
 ],
 "metadata": {
  "kernelspec": {
   "display_name": "Python 3",
   "language": "python",
   "name": "python3"
  },
  "language_info": {
   "codemirror_mode": {
    "name": "ipython",
    "version": 3
   },
   "file_extension": ".py",
   "mimetype": "text/x-python",
   "name": "python",
   "nbconvert_exporter": "python",
   "pygments_lexer": "ipython3",
   "version": "3.8.5"
  }
 },
 "nbformat": 4,
 "nbformat_minor": 5
}
