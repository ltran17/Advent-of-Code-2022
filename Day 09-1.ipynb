{
 "cells": [
  {
   "cell_type": "code",
   "execution_count": 1,
   "id": "chief-dream",
   "metadata": {},
   "outputs": [],
   "source": [
    "def get_lines(file_type='sample'):\n",
    "    '''\n",
    "    Read in the lines of today's sample/input file line by line. \n",
    "    Assumes the file is in folder called 'inputs/'\n",
    "    \n",
    "    Parameters\n",
    "    ----------\n",
    "    file_type : str\n",
    "        Either sample or input\n",
    "    \n",
    "    Returns\n",
    "    -------\n",
    "    list of inputs stripped of whitespace\n",
    "    '''\n",
    "    import datetime\n",
    "    day = str(datetime.datetime.today().day).zfill(2)\n",
    "    filename = f'inputs/{day}-{file_type}.txt'\n",
    "    try:\n",
    "        with open(filename,'r') as file:\n",
    "            lines = [line.strip() for line in file.readlines()]\n",
    "        return lines\n",
    "    except:\n",
    "        print(filename+' does not exist')"
   ]
  },
  {
   "cell_type": "code",
   "execution_count": 2,
   "id": "anticipated-roller",
   "metadata": {},
   "outputs": [],
   "source": [
    "sample = get_lines('sample')"
   ]
  },
  {
   "cell_type": "code",
   "execution_count": 3,
   "id": "grave-clearance",
   "metadata": {},
   "outputs": [
    {
     "data": {
      "text/plain": [
       "['R 4', 'U 4', 'L 3', 'D 1', 'R 4', 'D 1', 'L 5', 'R 2']"
      ]
     },
     "execution_count": 3,
     "metadata": {},
     "output_type": "execute_result"
    }
   ],
   "source": [
    "sample"
   ]
  },
  {
   "cell_type": "code",
   "execution_count": 4,
   "id": "magnetic-recipe",
   "metadata": {},
   "outputs": [],
   "source": [
    "def parse_move(move):\n",
    "    split = move.split(' ')\n",
    "    direction = split[0]\n",
    "    steps = int(split[1])\n",
    "    return direction, steps"
   ]
  },
  {
   "cell_type": "code",
   "execution_count": 5,
   "id": "foster-rainbow",
   "metadata": {},
   "outputs": [
    {
     "data": {
      "text/plain": [
       "('R', 4)"
      ]
     },
     "execution_count": 5,
     "metadata": {},
     "output_type": "execute_result"
    }
   ],
   "source": [
    "parse_move('R 4')"
   ]
  },
  {
   "cell_type": "markdown",
   "id": "lonely-cardiff",
   "metadata": {},
   "source": [
    "Assume that the head and tail start in the same position, (0,0). Keep track of the position of the head and the tail with coordinates."
   ]
  },
  {
   "cell_type": "code",
   "execution_count": 6,
   "id": "cleared-forest",
   "metadata": {},
   "outputs": [],
   "source": [
    "from collections import namedtuple"
   ]
  },
  {
   "cell_type": "code",
   "execution_count": 7,
   "id": "incorporated-longitude",
   "metadata": {},
   "outputs": [],
   "source": [
    "Point = namedtuple('Point','row col')"
   ]
  },
  {
   "cell_type": "code",
   "execution_count": 8,
   "id": "rolled-homeless",
   "metadata": {},
   "outputs": [],
   "source": [
    "head = Point(0,0)\n",
    "tail = Point(0,0)"
   ]
  },
  {
   "cell_type": "code",
   "execution_count": 9,
   "id": "honest-issue",
   "metadata": {},
   "outputs": [
    {
     "data": {
      "text/plain": [
       "Point(row=0, col=0)"
      ]
     },
     "execution_count": 9,
     "metadata": {},
     "output_type": "execute_result"
    }
   ],
   "source": [
    "head"
   ]
  },
  {
   "cell_type": "markdown",
   "id": "cutting-southeast",
   "metadata": {},
   "source": [
    "**`After each step, you'll need to update the position of the tail if the step means the head is no longer adjacent to the tail.`**"
   ]
  },
  {
   "cell_type": "code",
   "execution_count": 10,
   "id": "impressed-carbon",
   "metadata": {},
   "outputs": [],
   "source": [
    "def step_up(point, steps=1):\n",
    "    loc = Point(point.row+steps, point.col)\n",
    "    return loc\n",
    "\n",
    "def step_down(point, steps=1):\n",
    "    loc = Point(point.row-steps, point.col)\n",
    "    return loc\n",
    "\n",
    "def step_right(point, steps=1):\n",
    "    loc = Point(point.row, point.col+steps)\n",
    "    return loc\n",
    "\n",
    "def step_left(point, steps=1):\n",
    "    loc = Point(point.row, point.col-steps)\n",
    "    return loc"
   ]
  },
  {
   "cell_type": "code",
   "execution_count": 12,
   "id": "selected-posting",
   "metadata": {},
   "outputs": [],
   "source": [
    "def is_adjacent(head,tail):\n",
    "    if (abs(head.row-tail.row) <= 1) & (abs(head.col-tail.col) <= 1):\n",
    "        return True\n",
    "    return False"
   ]
  },
  {
   "cell_type": "markdown",
   "id": "reflected-pocket",
   "metadata": {},
   "source": [
    "**`If the head is ever two steps directly up, down, left, or right from the tail, the tail must also move one step in that direction;\n",
    "if the head and tail aren't touching and aren't in the same row or column, the tail always moves one step diagonally to keep up`**"
   ]
  },
  {
   "cell_type": "code",
   "execution_count": 125,
   "id": "framed-perfume",
   "metadata": {},
   "outputs": [],
   "source": [
    "def check_diagonal(head,tail):\n",
    "    if (abs(head.row-tail.row) > 0) & (abs(head.col-tail.col) > 0):\n",
    "#         print('is diagonal')\n",
    "        return True\n",
    "    return False"
   ]
  },
  {
   "cell_type": "code",
   "execution_count": 14,
   "id": "strategic-receipt",
   "metadata": {},
   "outputs": [],
   "source": [
    "def step_diagonal(head,tail):\n",
    "    if head.row > tail.row:\n",
    "        tail = step_up(tail)\n",
    "    else:\n",
    "        tail = step_down(tail)\n",
    "    if head.col > tail.col:\n",
    "        tail = step_right(tail)\n",
    "    else:\n",
    "        tail = step_left(tail)\n",
    "    return tail"
   ]
  },
  {
   "cell_type": "code",
   "execution_count": 15,
   "id": "pacific-glasgow",
   "metadata": {},
   "outputs": [],
   "source": [
    "def update_tail(head,tail):\n",
    "    '''assumes NOT adjacent, will always move the tail'''\n",
    "    if check_diagonal(head,tail):\n",
    "        return step_diagonal(head,tail)\n",
    "    if head.row > tail.row:\n",
    "        return step_up(tail)\n",
    "    elif head.row < tail.row:\n",
    "        return step_down(tail)\n",
    "    if head.col > tail.col:\n",
    "        return step_right(tail)\n",
    "    elif head.col < tail.col:\n",
    "        return step_left(tail)\n",
    "    print('update tail error')\n",
    "    return None\n",
    "\n",
    "        "
   ]
  },
  {
   "cell_type": "code",
   "execution_count": 29,
   "id": "arctic-vertex",
   "metadata": {},
   "outputs": [],
   "source": [
    "locs_visited = set()"
   ]
  },
  {
   "cell_type": "code",
   "execution_count": 122,
   "id": "accurate-sierra",
   "metadata": {},
   "outputs": [],
   "source": [
    "def make_tail_step(head,tail):\n",
    "    locs_visited.add(tail)\n",
    "    if not is_adjacent(head,tail):\n",
    "        tail = update_tail(head,tail)\n",
    "#         print('tail moved to ',tail)\n",
    "    else:\n",
    "        pass\n",
    "#         print('tail not moved')\n",
    "    locs_visited.add(tail)\n",
    "    return tail\n",
    "    "
   ]
  },
  {
   "cell_type": "code",
   "execution_count": 88,
   "id": "contained-psychiatry",
   "metadata": {},
   "outputs": [
    {
     "name": "stdout",
     "output_type": "stream",
     "text": [
      "is diagonal\n"
     ]
    },
    {
     "data": {
      "text/plain": [
       "Point(row=0, col=-1)"
      ]
     },
     "execution_count": 88,
     "metadata": {},
     "output_type": "execute_result"
    }
   ],
   "source": [
    "make_tail_step(Point(0,0),Point(-1,-2))"
   ]
  },
  {
   "cell_type": "code",
   "execution_count": 89,
   "id": "promising-musical",
   "metadata": {},
   "outputs": [
    {
     "data": {
      "text/plain": [
       "{Point(row=-1, col=-2),\n",
       " Point(row=0, col=-1),\n",
       " Point(row=0, col=0),\n",
       " Point(row=0, col=1),\n",
       " Point(row=0, col=2),\n",
       " Point(row=0, col=3),\n",
       " Point(row=1, col=4),\n",
       " Point(row=2, col=4),\n",
       " Point(row=3, col=4),\n",
       " Point(row=4, col=-10),\n",
       " Point(row=4, col=-9),\n",
       " Point(row=4, col=-8),\n",
       " Point(row=4, col=-7),\n",
       " Point(row=4, col=-6),\n",
       " Point(row=4, col=-5),\n",
       " Point(row=4, col=-4),\n",
       " Point(row=4, col=-3),\n",
       " Point(row=4, col=-2),\n",
       " Point(row=4, col=-1),\n",
       " Point(row=4, col=0),\n",
       " Point(row=4, col=1),\n",
       " Point(row=4, col=2),\n",
       " Point(row=4, col=3)}"
      ]
     },
     "execution_count": 89,
     "metadata": {},
     "output_type": "execute_result"
    }
   ],
   "source": [
    "locs_visited"
   ]
  },
  {
   "cell_type": "code",
   "execution_count": 90,
   "id": "documented-satellite",
   "metadata": {},
   "outputs": [],
   "source": [
    "def make_head_step(head, direction):\n",
    "    if direction=='U':\n",
    "        head = step_up(head)\n",
    "    elif direction=='D':\n",
    "        head = step_down(head)\n",
    "    elif direction=='R':\n",
    "        head = step_right(head)\n",
    "    elif direction=='L':\n",
    "        head = step_left(head)\n",
    "    else:\n",
    "        print('error in direction')\n",
    "    return head"
   ]
  },
  {
   "cell_type": "code",
   "execution_count": 91,
   "id": "placed-attribute",
   "metadata": {},
   "outputs": [],
   "source": [
    "def initialize_tail_locations():\n",
    "    return set()"
   ]
  },
  {
   "cell_type": "code",
   "execution_count": 92,
   "id": "loving-hawaiian",
   "metadata": {},
   "outputs": [],
   "source": [
    "def initialize_point_state():\n",
    "    return (Point(0,0),Point(0,0))"
   ]
  },
  {
   "cell_type": "code",
   "execution_count": 93,
   "id": "electoral-tourism",
   "metadata": {},
   "outputs": [],
   "source": [
    "def get_moves(file_lines):\n",
    "    return [parse_move(move) for move in file_lines]"
   ]
  },
  {
   "cell_type": "markdown",
   "id": "widespread-lightweight",
   "metadata": {},
   "source": [
    "### Initialize states"
   ]
  },
  {
   "cell_type": "code",
   "execution_count": 126,
   "id": "impaired-question",
   "metadata": {},
   "outputs": [],
   "source": [
    "head_moves = get_moves(get_lines('input'))\n",
    "head, tail = initialize_point_state()\n",
    "locs_visited = initialize_tail_locations()"
   ]
  },
  {
   "cell_type": "code",
   "execution_count": 127,
   "id": "affecting-string",
   "metadata": {},
   "outputs": [
    {
     "name": "stdout",
     "output_type": "stream",
     "text": [
      "6391\n"
     ]
    }
   ],
   "source": [
    "for move in head_moves:\n",
    "    direction, steps = move\n",
    "#     print(direction,steps)\n",
    "    for step in range(steps):\n",
    "        head = make_head_step(head,direction)\n",
    "#         print('\\thead:',head)\n",
    "        tail = make_tail_step(head,tail)\n",
    "#         print('\\ttail', tail)\n",
    "print(len(locs_visited))"
   ]
  },
  {
   "cell_type": "code",
   "execution_count": null,
   "id": "unable-communication",
   "metadata": {},
   "outputs": [],
   "source": []
  }
 ],
 "metadata": {
  "kernelspec": {
   "display_name": "Python 3",
   "language": "python",
   "name": "python3"
  },
  "language_info": {
   "codemirror_mode": {
    "name": "ipython",
    "version": 3
   },
   "file_extension": ".py",
   "mimetype": "text/x-python",
   "name": "python",
   "nbconvert_exporter": "python",
   "pygments_lexer": "ipython3",
   "version": "3.8.5"
  }
 },
 "nbformat": 4,
 "nbformat_minor": 5
}
