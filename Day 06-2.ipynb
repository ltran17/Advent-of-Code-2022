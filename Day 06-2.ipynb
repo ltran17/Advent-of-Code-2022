{
 "cells": [
  {
   "cell_type": "code",
   "execution_count": 1,
   "id": "patient-manual",
   "metadata": {},
   "outputs": [],
   "source": [
    "def get_lines(file_type='sample'):\n",
    "    '''\n",
    "    Read in the lines of today's sample/input file line by line. \n",
    "    Assumes the file is in folder called 'inputs/'\n",
    "    \n",
    "    Parameters\n",
    "    ----------\n",
    "    file_type : str\n",
    "        Either sample or input\n",
    "    \n",
    "    Returns\n",
    "    -------\n",
    "    list of inputs stripped of whitespace\n",
    "    '''\n",
    "    import datetime\n",
    "    day = str(datetime.datetime.today().day).zfill(2)\n",
    "    filename = f'inputs/{day}-{file_type}.txt'\n",
    "    try:\n",
    "        with open(filename,'r') as file:\n",
    "            lines = [line.strip() for line in file.readlines()]\n",
    "        return lines\n",
    "    except:\n",
    "        print(filename+' does not exist')"
   ]
  },
  {
   "cell_type": "code",
   "execution_count": 2,
   "id": "changing-factor",
   "metadata": {},
   "outputs": [],
   "source": [
    "signals = get_lines()"
   ]
  },
  {
   "cell_type": "code",
   "execution_count": 8,
   "id": "recreational-address",
   "metadata": {},
   "outputs": [],
   "source": [
    "def get_uniqueness(values):\n",
    "    subsignal = set(values)\n",
    "#     print('\\t', subsignal)\n",
    "    if len(subsignal)==14:\n",
    "        return True\n",
    "    else:\n",
    "        return False"
   ]
  },
  {
   "cell_type": "code",
   "execution_count": 11,
   "id": "economic-fever",
   "metadata": {},
   "outputs": [],
   "source": [
    "def get_marker(s):\n",
    "    number_of_signals = len(s)\n",
    "    for window in range(0,number_of_signals-14):\n",
    "        test = s[window:window+14]\n",
    "        if get_uniqueness(test) == True:\n",
    "            return window+14\n",
    "    return 'No signal found'"
   ]
  },
  {
   "cell_type": "code",
   "execution_count": 12,
   "id": "million-protein",
   "metadata": {},
   "outputs": [
    {
     "name": "stdout",
     "output_type": "stream",
     "text": [
      "19\n",
      "23\n",
      "23\n",
      "29\n",
      "26\n"
     ]
    }
   ],
   "source": [
    "for signal in signals:\n",
    "    s = list(signal)\n",
    "    print(get_marker(s))"
   ]
  },
  {
   "cell_type": "code",
   "execution_count": 13,
   "id": "eight-device",
   "metadata": {},
   "outputs": [],
   "source": [
    "input_signal = get_lines('input')"
   ]
  },
  {
   "cell_type": "code",
   "execution_count": 14,
   "id": "tough-works",
   "metadata": {},
   "outputs": [],
   "source": [
    "s = list(input_signal[0])"
   ]
  },
  {
   "cell_type": "code",
   "execution_count": 15,
   "id": "weighted-intersection",
   "metadata": {},
   "outputs": [
    {
     "data": {
      "text/plain": [
       "3059"
      ]
     },
     "execution_count": 15,
     "metadata": {},
     "output_type": "execute_result"
    }
   ],
   "source": [
    "get_marker(s)"
   ]
  },
  {
   "cell_type": "code",
   "execution_count": null,
   "id": "imposed-drink",
   "metadata": {},
   "outputs": [],
   "source": []
  }
 ],
 "metadata": {
  "kernelspec": {
   "display_name": "Python 3",
   "language": "python",
   "name": "python3"
  },
  "language_info": {
   "codemirror_mode": {
    "name": "ipython",
    "version": 3
   },
   "file_extension": ".py",
   "mimetype": "text/x-python",
   "name": "python",
   "nbconvert_exporter": "python",
   "pygments_lexer": "ipython3",
   "version": "3.8.5"
  }
 },
 "nbformat": 4,
 "nbformat_minor": 5
}
