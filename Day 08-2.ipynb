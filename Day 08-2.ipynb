{
 "cells": [
  {
   "cell_type": "code",
   "execution_count": 1,
   "id": "american-stamp",
   "metadata": {},
   "outputs": [],
   "source": [
    "import pandas as pd"
   ]
  },
  {
   "cell_type": "code",
   "execution_count": 2,
   "id": "younger-antibody",
   "metadata": {},
   "outputs": [],
   "source": [
    "def get_lines(file_type='sample'):\n",
    "    '''\n",
    "    Read in the lines of today's sample/input file line by line. \n",
    "    Assumes the file is in folder called 'inputs/'\n",
    "    \n",
    "    Parameters\n",
    "    ----------\n",
    "    file_type : str\n",
    "        Either sample or input\n",
    "    \n",
    "    Returns\n",
    "    -------\n",
    "    list of inputs stripped of whitespace\n",
    "    '''\n",
    "    import datetime\n",
    "    day = str(datetime.datetime.today().day).zfill(2)\n",
    "    filename = f'inputs/{day}-{file_type}.txt'\n",
    "    try:\n",
    "        with open(filename,'r') as file:\n",
    "            lines = [line.strip() for line in file.readlines()]\n",
    "        return lines\n",
    "    except:\n",
    "        print(filename+' does not exist')"
   ]
  },
  {
   "cell_type": "code",
   "execution_count": 3,
   "id": "conscious-shape",
   "metadata": {},
   "outputs": [],
   "source": [
    "sample_forest = pd.DataFrame([[int(c) for c in list(s)] for s in get_lines('sample')])\n",
    "input_forest = pd.DataFrame([[int(c) for c in list(s)] for s in get_lines('input')])"
   ]
  },
  {
   "cell_type": "code",
   "execution_count": 4,
   "id": "sophisticated-effort",
   "metadata": {},
   "outputs": [
    {
     "data": {
      "text/plain": [
       "(5, 5)"
      ]
     },
     "execution_count": 4,
     "metadata": {},
     "output_type": "execute_result"
    }
   ],
   "source": [
    "sample_forest.shape"
   ]
  },
  {
   "cell_type": "code",
   "execution_count": 5,
   "id": "spectacular-poultry",
   "metadata": {},
   "outputs": [
    {
     "data": {
      "text/plain": [
       "(99, 99)"
      ]
     },
     "execution_count": 5,
     "metadata": {},
     "output_type": "execute_result"
    }
   ],
   "source": [
    "input_forest.shape"
   ]
  },
  {
   "cell_type": "code",
   "execution_count": 21,
   "id": "national-house",
   "metadata": {},
   "outputs": [],
   "source": [
    "def is_edge(i,j):\n",
    "    '''if on the edge, the viewing score is 0'''\n",
    "    if (i==0) | (j==0) | (i==rows) | (j==cols):\n",
    "        return 0\n",
    "    else:\n",
    "        return 1 # multiplicative identity"
   ]
  },
  {
   "cell_type": "code",
   "execution_count": 38,
   "id": "excess-penalty",
   "metadata": {},
   "outputs": [],
   "source": [
    "def get_score_to_north(i,j):\n",
    "    '''How many trees can be seen looking to north?'''\n",
    "    score = 0\n",
    "    for row in range(i-1,-1,-1):\n",
    "        if forest.iloc[row,j] < forest.iloc[i,j]:\n",
    "            score += 1\n",
    "        else:\n",
    "            return score+1\n",
    "    return score"
   ]
  },
  {
   "cell_type": "code",
   "execution_count": 43,
   "id": "talented-annual",
   "metadata": {},
   "outputs": [],
   "source": [
    "def get_score_to_south(i,j):\n",
    "    '''How many trees can be seen looking to south?'''\n",
    "    score = 0\n",
    "    for row in range(i+1, rows):\n",
    "        if forest.iloc[row,j] < forest.iloc[i,j]:\n",
    "            score += 1\n",
    "        else:\n",
    "            return score + 1\n",
    "    return score"
   ]
  },
  {
   "cell_type": "code",
   "execution_count": 49,
   "id": "designing-cabinet",
   "metadata": {},
   "outputs": [],
   "source": [
    "def get_score_to_west(i,j):\n",
    "    score = 0\n",
    "    for col in range(j-1,-1,-1):\n",
    "        if forest.iloc[i,col] < forest.iloc[i,j]:\n",
    "            score += 1\n",
    "        else:\n",
    "            return score + 1\n",
    "    return score"
   ]
  },
  {
   "cell_type": "code",
   "execution_count": 54,
   "id": "sophisticated-brooklyn",
   "metadata": {},
   "outputs": [],
   "source": [
    "def get_score_to_east(i,j):\n",
    "    score = 0\n",
    "    for col in range(j+1,cols):\n",
    "        if forest.iloc[i,col] < forest.iloc[i,j]:\n",
    "            score += 1\n",
    "        else:\n",
    "            return score + 1\n",
    "    return score"
   ]
  },
  {
   "cell_type": "code",
   "execution_count": 57,
   "id": "engaging-thumbnail",
   "metadata": {},
   "outputs": [],
   "source": [
    "scorers = [is_edge, get_score_to_north, get_score_to_east, get_score_to_south, get_score_to_west]\n",
    "def get_score(i,j):\n",
    "    value = 1\n",
    "    for scorer in scorers:\n",
    "        value = value*scorer(i,j)\n",
    "    return value"
   ]
  },
  {
   "cell_type": "code",
   "execution_count": 61,
   "id": "comfortable-correction",
   "metadata": {},
   "outputs": [
    {
     "data": {
      "text/plain": [
       "8"
      ]
     },
     "execution_count": 61,
     "metadata": {},
     "output_type": "execute_result"
    }
   ],
   "source": [
    "get_score(3,2)"
   ]
  },
  {
   "cell_type": "code",
   "execution_count": 62,
   "id": "verbal-ridge",
   "metadata": {},
   "outputs": [
    {
     "data": {
      "text/plain": [
       "[0, 0, 0, 0, 0, 0, 1, 4, 1, 0, 0, 6, 1, 2, 0, 0, 1, 8, 3, 0, 0, 0, 0, 0, 0]"
      ]
     },
     "execution_count": 62,
     "metadata": {},
     "output_type": "execute_result"
    }
   ],
   "source": [
    "scores = list()\n",
    "for i in range(rows):\n",
    "    for j in range(cols):\n",
    "        scores.append(get_score(i,j))\n",
    "scores"
   ]
  },
  {
   "cell_type": "code",
   "execution_count": 63,
   "id": "public-index",
   "metadata": {},
   "outputs": [
    {
     "data": {
      "text/plain": [
       "8"
      ]
     },
     "execution_count": 63,
     "metadata": {},
     "output_type": "execute_result"
    }
   ],
   "source": [
    "max(scores)\n"
   ]
  },
  {
   "cell_type": "code",
   "execution_count": 64,
   "id": "built-september",
   "metadata": {},
   "outputs": [],
   "source": [
    "forest = input_forest.copy()\n",
    "rows, cols = forest.shape"
   ]
  },
  {
   "cell_type": "code",
   "execution_count": 65,
   "id": "prospective-depression",
   "metadata": {},
   "outputs": [],
   "source": [
    "scores = list()\n",
    "for i in range(rows):\n",
    "    for j in range(cols):\n",
    "        scores.append(get_score(i,j))"
   ]
  },
  {
   "cell_type": "code",
   "execution_count": 66,
   "id": "advisory-comedy",
   "metadata": {},
   "outputs": [
    {
     "data": {
      "text/plain": [
       "527340"
      ]
     },
     "execution_count": 66,
     "metadata": {},
     "output_type": "execute_result"
    }
   ],
   "source": [
    "max(scores)"
   ]
  },
  {
   "cell_type": "code",
   "execution_count": null,
   "id": "united-computer",
   "metadata": {},
   "outputs": [],
   "source": []
  }
 ],
 "metadata": {
  "kernelspec": {
   "display_name": "Python 3",
   "language": "python",
   "name": "python3"
  },
  "language_info": {
   "codemirror_mode": {
    "name": "ipython",
    "version": 3
   },
   "file_extension": ".py",
   "mimetype": "text/x-python",
   "name": "python",
   "nbconvert_exporter": "python",
   "pygments_lexer": "ipython3",
   "version": "3.8.5"
  }
 },
 "nbformat": 4,
 "nbformat_minor": 5
}
