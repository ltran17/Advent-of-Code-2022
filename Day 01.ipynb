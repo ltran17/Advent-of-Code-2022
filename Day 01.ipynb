{
 "cells": [
  {
   "cell_type": "code",
   "execution_count": 1,
   "id": "0c2d745b-9a59-4cec-8b7e-107def196ee2",
   "metadata": {},
   "outputs": [],
   "source": [
    "import os"
   ]
  },
  {
   "cell_type": "code",
   "execution_count": 63,
   "id": "ef4a5d19-1e7c-453d-a963-b22ba70e1487",
   "metadata": {},
   "outputs": [],
   "source": [
    "filename = 'inputs/01-input.txt'"
   ]
  },
  {
   "cell_type": "code",
   "execution_count": 64,
   "id": "0d472312-1be4-42df-b17c-8fe52d6e9242",
   "metadata": {},
   "outputs": [],
   "source": [
    "with open(filename,'r') as file:\n",
    "    lines = [line.strip() for line in file.readlines()]"
   ]
  },
  {
   "cell_type": "code",
   "execution_count": 66,
   "id": "bb2a7c4c-3773-4fc3-b9d9-f3fb456939ae",
   "metadata": {},
   "outputs": [],
   "source": [
    "elf_total = list()"
   ]
  },
  {
   "cell_type": "code",
   "execution_count": 67,
   "id": "4adcfc65-93f6-467a-b2de-720b32508b2f",
   "metadata": {},
   "outputs": [
    {
     "data": {
      "text/plain": [
       "2243"
      ]
     },
     "execution_count": 67,
     "metadata": {},
     "output_type": "execute_result"
    }
   ],
   "source": [
    "len(lines)"
   ]
  },
  {
   "cell_type": "code",
   "execution_count": 77,
   "id": "048b71d1-de85-4337-903c-08df4631a963",
   "metadata": {},
   "outputs": [],
   "source": [
    "elf_total = list()\n",
    "total = 0\n",
    "for i, line in enumerate(lines):\n",
    "    if line != '':\n",
    "        total += int(line)\n",
    "    else:\n",
    "        elf_total.append(total)\n",
    "        total = 0\n",
    "    if i == len(lines)-1:\n",
    "        elf_total.append(total)\n",
    "\n",
    "        "
   ]
  },
  {
   "cell_type": "code",
   "execution_count": 69,
   "id": "6633a7f4-4860-47ba-9af9-908c7ae5214f",
   "metadata": {},
   "outputs": [
    {
     "data": {
      "text/plain": [
       "69626"
      ]
     },
     "execution_count": 69,
     "metadata": {},
     "output_type": "execute_result"
    }
   ],
   "source": [
    "most_calories = max(elf_total)\n",
    "most_calories"
   ]
  },
  {
   "cell_type": "code",
   "execution_count": 70,
   "id": "752316c7-7be6-4e6b-b380-a54b87939425",
   "metadata": {},
   "outputs": [],
   "source": [
    "top_elves = elf_total.copy()"
   ]
  },
  {
   "cell_type": "code",
   "execution_count": 71,
   "id": "2cdc8684-1ca9-49c5-9b83-c3b56d5fb7cc",
   "metadata": {},
   "outputs": [
    {
     "data": {
      "text/plain": [
       "230"
      ]
     },
     "execution_count": 71,
     "metadata": {},
     "output_type": "execute_result"
    }
   ],
   "source": [
    "elf_total.index(most_calories)+1"
   ]
  },
  {
   "cell_type": "code",
   "execution_count": 72,
   "id": "7ed82344-0592-4781-a524-f72784a83c55",
   "metadata": {},
   "outputs": [],
   "source": [
    "total = 0\n",
    "for i in range(0,3):\n",
    "    most_cal = max(elf_total)\n",
    "    total += most_cal\n",
    "    elf_total.remove(most_cal)"
   ]
  },
  {
   "cell_type": "code",
   "execution_count": 73,
   "id": "ff05faf0-0199-4bd2-8dc5-2d46fa4a42c8",
   "metadata": {},
   "outputs": [
    {
     "data": {
      "text/plain": [
       "206780"
      ]
     },
     "execution_count": 73,
     "metadata": {},
     "output_type": "execute_result"
    }
   ],
   "source": [
    "sum(sorted(top_elves)[-3:])"
   ]
  },
  {
   "cell_type": "code",
   "execution_count": 90,
   "id": "0c063ec2-7bb8-4acb-991c-3458f0d5afd1",
   "metadata": {},
   "outputs": [],
   "source": []
  },
  {
   "cell_type": "code",
   "execution_count": null,
   "id": "2b37b529-5385-475b-9300-dbdc57959ec6",
   "metadata": {},
   "outputs": [],
   "source": []
  },
  {
   "cell_type": "code",
   "execution_count": null,
   "id": "230f85f5-e311-4bd0-baf4-feaed1bfca2d",
   "metadata": {},
   "outputs": [],
   "source": []
  }
 ],
 "metadata": {
  "kernelspec": {
   "display_name": "Python 3 (ipykernel)",
   "language": "python",
   "name": "python3"
  },
  "language_info": {
   "codemirror_mode": {
    "name": "ipython",
    "version": 3
   },
   "file_extension": ".py",
   "mimetype": "text/x-python",
   "name": "python",
   "nbconvert_exporter": "python",
   "pygments_lexer": "ipython3",
   "version": "3.8.13"
  }
 },
 "nbformat": 4,
 "nbformat_minor": 5
}
