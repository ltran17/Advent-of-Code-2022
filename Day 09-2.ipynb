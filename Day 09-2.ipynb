{
 "cells": [
  {
   "cell_type": "code",
   "execution_count": 1,
   "id": "average-australian",
   "metadata": {},
   "outputs": [],
   "source": [
    "def get_lines(file_type='sample'):\n",
    "    '''\n",
    "    Read in the lines of today's sample/input file line by line. \n",
    "    Assumes the file is in folder called 'inputs/'\n",
    "    \n",
    "    Parameters\n",
    "    ----------\n",
    "    file_type : str\n",
    "        Either sample or input\n",
    "    \n",
    "    Returns\n",
    "    -------\n",
    "    list of inputs stripped of whitespace\n",
    "    '''\n",
    "    import datetime\n",
    "    day = str(datetime.datetime.today().day).zfill(2)\n",
    "    filename = f'inputs/{day}-{file_type}.txt'\n",
    "    try:\n",
    "        with open(filename,'r') as file:\n",
    "            lines = [line.strip() for line in file.readlines()]\n",
    "        return lines\n",
    "    except:\n",
    "        print(filename+' does not exist')"
   ]
  },
  {
   "cell_type": "code",
   "execution_count": 2,
   "id": "sharp-traffic",
   "metadata": {},
   "outputs": [],
   "source": [
    "sample = get_lines('sample')"
   ]
  },
  {
   "cell_type": "code",
   "execution_count": 3,
   "id": "compliant-cooking",
   "metadata": {},
   "outputs": [
    {
     "data": {
      "text/plain": [
       "['R 4', 'U 4', 'L 3', 'D 1', 'R 4', 'D 1', 'L 5', 'R 2']"
      ]
     },
     "execution_count": 3,
     "metadata": {},
     "output_type": "execute_result"
    }
   ],
   "source": [
    "sample"
   ]
  },
  {
   "cell_type": "code",
   "execution_count": 4,
   "id": "raising-geneva",
   "metadata": {},
   "outputs": [],
   "source": [
    "def parse_move(move):\n",
    "    split = move.split(' ')\n",
    "    direction = split[0]\n",
    "    steps = int(split[1])\n",
    "    return direction, steps"
   ]
  },
  {
   "cell_type": "code",
   "execution_count": 5,
   "id": "addressed-poker",
   "metadata": {},
   "outputs": [
    {
     "data": {
      "text/plain": [
       "('R', 4)"
      ]
     },
     "execution_count": 5,
     "metadata": {},
     "output_type": "execute_result"
    }
   ],
   "source": [
    "parse_move('R 4')"
   ]
  },
  {
   "cell_type": "markdown",
   "id": "horizontal-absorption",
   "metadata": {},
   "source": [
    "Assume that the head and tail start in the same position, (0,0). Keep track of the position of the head and the tail with coordinates."
   ]
  },
  {
   "cell_type": "code",
   "execution_count": 6,
   "id": "electric-favor",
   "metadata": {},
   "outputs": [],
   "source": [
    "from collections import namedtuple"
   ]
  },
  {
   "cell_type": "code",
   "execution_count": 7,
   "id": "bibliographic-calibration",
   "metadata": {},
   "outputs": [],
   "source": [
    "Point = namedtuple('Point','row col')"
   ]
  },
  {
   "cell_type": "code",
   "execution_count": 8,
   "id": "helpful-interest",
   "metadata": {},
   "outputs": [],
   "source": [
    "head = Point(0,0)\n",
    "tail = Point(0,0)"
   ]
  },
  {
   "cell_type": "code",
   "execution_count": 9,
   "id": "indirect-sender",
   "metadata": {},
   "outputs": [
    {
     "data": {
      "text/plain": [
       "Point(row=0, col=0)"
      ]
     },
     "execution_count": 9,
     "metadata": {},
     "output_type": "execute_result"
    }
   ],
   "source": [
    "head"
   ]
  },
  {
   "cell_type": "markdown",
   "id": "normal-mixer",
   "metadata": {},
   "source": [
    "**`After each step, you'll need to update the position of the tail if the step means the head is no longer adjacent to the tail.`**"
   ]
  },
  {
   "cell_type": "code",
   "execution_count": 10,
   "id": "unusual-psychiatry",
   "metadata": {},
   "outputs": [],
   "source": [
    "def step_up(point, steps=1):\n",
    "    loc = Point(point.row+steps, point.col)\n",
    "    return loc\n",
    "\n",
    "def step_down(point, steps=1):\n",
    "    loc = Point(point.row-steps, point.col)\n",
    "    return loc\n",
    "\n",
    "def step_right(point, steps=1):\n",
    "    loc = Point(point.row, point.col+steps)\n",
    "    return loc\n",
    "\n",
    "def step_left(point, steps=1):\n",
    "    loc = Point(point.row, point.col-steps)\n",
    "    return loc"
   ]
  },
  {
   "cell_type": "code",
   "execution_count": 11,
   "id": "dressed-concert",
   "metadata": {},
   "outputs": [],
   "source": [
    "def is_adjacent(head,tail):\n",
    "    if (abs(head.row-tail.row) <= 1) & (abs(head.col-tail.col) <= 1):\n",
    "        return True\n",
    "    return False"
   ]
  },
  {
   "cell_type": "markdown",
   "id": "satisfactory-cable",
   "metadata": {},
   "source": [
    "**`If the head is ever two steps directly up, down, left, or right from the tail, the tail must also move one step in that direction;\n",
    "if the head and tail aren't touching and aren't in the same row or column, the tail always moves one step diagonally to keep up`**"
   ]
  },
  {
   "cell_type": "code",
   "execution_count": 12,
   "id": "israeli-polls",
   "metadata": {},
   "outputs": [],
   "source": [
    "def check_diagonal(head,tail):\n",
    "    if (abs(head.row-tail.row) > 0) & (abs(head.col-tail.col) > 0):\n",
    "#         print('is diagonal')\n",
    "        return True\n",
    "    return False"
   ]
  },
  {
   "cell_type": "markdown",
   "id": "solved-alpha",
   "metadata": {},
   "source": [
    "### TRICKY\n",
    "In part 1, the head and tail could not be 2 diagonals apart from each other, but in part 2 a knot CAN be 2 diagonals away from the previous knot. Deal with that edge case."
   ]
  },
  {
   "cell_type": "code",
   "execution_count": 13,
   "id": "balanced-savage",
   "metadata": {},
   "outputs": [],
   "source": [
    "def big_step_diagonal(previous, current):\n",
    "    if previous.row-current.row > 0:\n",
    "        current = step_up(current)\n",
    "        if previous.col-current.col > 0:\n",
    "            current = step_right(current)\n",
    "        else:\n",
    "            current = step_left(current)\n",
    "    else:\n",
    "        current = step_down(current)\n",
    "        if previous.col-current.col > 0:\n",
    "            current = step_right(current)\n",
    "        else:\n",
    "            current = step_left(current)\n",
    "    return current"
   ]
  },
  {
   "cell_type": "code",
   "execution_count": 14,
   "id": "working-remark",
   "metadata": {},
   "outputs": [],
   "source": [
    "def step_diagonal(previous,current):\n",
    "    if (abs(previous.row)-abs(current.row))==(abs(previous.col)-abs(current.col)):\n",
    "        return big_step_diagonal(previous, current)\n",
    "    if previous.row > current.row:\n",
    "        current = step_up(current)\n",
    "    else:\n",
    "        current = step_down(current)\n",
    "    if previous.col > current.col:\n",
    "        current = step_right(current)\n",
    "    else:\n",
    "        current = step_left(current)\n",
    "    return current"
   ]
  },
  {
   "cell_type": "code",
   "execution_count": 15,
   "id": "specialized-greensboro",
   "metadata": {},
   "outputs": [],
   "source": [
    "def update_knot(previous,current):\n",
    "    '''assumes NOT adjacent, will always move the tail'''\n",
    "    if check_diagonal(previous,current):\n",
    "        return step_diagonal(previous,current)\n",
    "    if previous.row > current.row:\n",
    "        return step_up(current)\n",
    "    elif previous.row < current.row:\n",
    "        return step_down(current)\n",
    "    if previous.col > current.col:\n",
    "        return step_right(current)\n",
    "    elif previous.col < current.col:\n",
    "        return step_left(current)\n",
    "    print('update knot error')\n",
    "    return None\n",
    "\n",
    "        "
   ]
  },
  {
   "cell_type": "code",
   "execution_count": 16,
   "id": "center-explosion",
   "metadata": {},
   "outputs": [],
   "source": [
    "def make_tail_step(previous,tail):\n",
    "    locs_visited.add(tail)\n",
    "    if not is_adjacent(previous,tail):\n",
    "        tail = update_knot(previous,tail)\n",
    "#         print('tail moved to ',tail)\n",
    "    else:\n",
    "        pass\n",
    "#         print('tail not moved')\n",
    "    locs_visited.add(tail)\n",
    "    return tail\n",
    "    "
   ]
  },
  {
   "cell_type": "markdown",
   "id": "cooked-detector",
   "metadata": {},
   "source": [
    "Minor improvement from Part 1 to the steps for the head knot: use a dictionary of the functions rather than a series of if-else statements."
   ]
  },
  {
   "cell_type": "code",
   "execution_count": 17,
   "id": "acoustic-credit",
   "metadata": {},
   "outputs": [],
   "source": [
    "def make_head_step(head, direction):\n",
    "    direction_moves = {'U':step_up,'D':step_down,'R':step_right,'L':step_left}\n",
    "    head = direction_moves[direction](head)\n",
    "    return head"
   ]
  },
  {
   "cell_type": "code",
   "execution_count": 18,
   "id": "cosmetic-assistant",
   "metadata": {},
   "outputs": [],
   "source": [
    "def make_knot_step(previous, current):\n",
    "    if not is_adjacent(previous, current):\n",
    "        current = update_knot(previous, current)\n",
    "    else:\n",
    "        pass\n",
    "    return current"
   ]
  },
  {
   "cell_type": "code",
   "execution_count": 19,
   "id": "metallic-season",
   "metadata": {},
   "outputs": [],
   "source": [
    "def initialize_tail_locations():\n",
    "    return set()"
   ]
  },
  {
   "cell_type": "code",
   "execution_count": 20,
   "id": "biological-teaching",
   "metadata": {},
   "outputs": [],
   "source": [
    "def initialize_point_state():\n",
    "    return (Point(0,0),Point(0,0))"
   ]
  },
  {
   "cell_type": "code",
   "execution_count": 21,
   "id": "defined-instrumentation",
   "metadata": {},
   "outputs": [],
   "source": [
    "def get_moves(file_lines):\n",
    "    return [parse_move(move) for move in file_lines]"
   ]
  },
  {
   "cell_type": "markdown",
   "id": "subject-latex",
   "metadata": {},
   "source": [
    "### Initialize states"
   ]
  },
  {
   "cell_type": "markdown",
   "id": "approved-traffic",
   "metadata": {},
   "source": [
    "In this version, the rope has 10 knots to keep track of. They all start in the same location."
   ]
  },
  {
   "cell_type": "markdown",
   "id": "living-assist",
   "metadata": {},
   "source": [
    "The head of this rope is `knots[0]` and the tail is `knots[9]`."
   ]
  },
  {
   "cell_type": "code",
   "execution_count": 22,
   "id": "egyptian-collection",
   "metadata": {},
   "outputs": [
    {
     "data": {
      "text/plain": [
       "[('R', 4),\n",
       " ('U', 4),\n",
       " ('L', 3),\n",
       " ('D', 1),\n",
       " ('R', 4),\n",
       " ('D', 1),\n",
       " ('L', 5),\n",
       " ('R', 2)]"
      ]
     },
     "execution_count": 22,
     "metadata": {},
     "output_type": "execute_result"
    }
   ],
   "source": [
    "head_moves = get_moves(get_lines('sample'))\n",
    "head_moves"
   ]
  },
  {
   "cell_type": "code",
   "execution_count": 23,
   "id": "sufficient-influence",
   "metadata": {},
   "outputs": [
    {
     "data": {
      "text/plain": [
       "([Point(row=0, col=0),\n",
       "  Point(row=0, col=0),\n",
       "  Point(row=0, col=0),\n",
       "  Point(row=0, col=0),\n",
       "  Point(row=0, col=0),\n",
       "  Point(row=0, col=0),\n",
       "  Point(row=0, col=0),\n",
       "  Point(row=0, col=0),\n",
       "  Point(row=0, col=0),\n",
       "  Point(row=0, col=0)],\n",
       " set())"
      ]
     },
     "execution_count": 23,
     "metadata": {},
     "output_type": "execute_result"
    }
   ],
   "source": [
    "knots = [Point(0,0) for knot in range(10)]\n",
    "locs_visited = initialize_tail_locations()\n",
    "knots, locs_visited"
   ]
  },
  {
   "cell_type": "code",
   "execution_count": 24,
   "id": "moving-mentor",
   "metadata": {},
   "outputs": [],
   "source": [
    "def move_rope(knots, move):\n",
    "    direction, steps = move\n",
    "    for step in range(steps):\n",
    "        knots[0] = make_head_step(knots[0], direction)\n",
    "        for i in range(1,9):\n",
    "            knots[i] = make_knot_step(knots[i-1],knots[i])\n",
    "        knots[9] = make_tail_step(knots[8],knots[9])\n",
    "    return knots\n",
    "        "
   ]
  },
  {
   "cell_type": "code",
   "execution_count": 25,
   "id": "bridal-breach",
   "metadata": {},
   "outputs": [
    {
     "name": "stdout",
     "output_type": "stream",
     "text": [
      "('R', 4)\n",
      "\t Point(row=0, col=4)\n",
      "\t Point(row=0, col=3)\n",
      "\t Point(row=0, col=2)\n",
      "\t Point(row=0, col=1)\n",
      "\t Point(row=0, col=0)\n",
      "\t Point(row=0, col=0)\n",
      "\t Point(row=0, col=0)\n",
      "\t Point(row=0, col=0)\n",
      "\t Point(row=0, col=0)\n",
      "\t Point(row=0, col=0)\n",
      "\n",
      "\n",
      "('U', 4)\n",
      "\t Point(row=4, col=4)\n",
      "\t Point(row=3, col=4)\n",
      "\t Point(row=2, col=4)\n",
      "\t Point(row=2, col=3)\n",
      "\t Point(row=2, col=2)\n",
      "\t Point(row=1, col=1)\n",
      "\t Point(row=0, col=0)\n",
      "\t Point(row=0, col=0)\n",
      "\t Point(row=0, col=0)\n",
      "\t Point(row=0, col=0)\n",
      "\n",
      "\n",
      "('L', 3)\n",
      "\t Point(row=4, col=1)\n",
      "\t Point(row=4, col=2)\n",
      "\t Point(row=3, col=3)\n",
      "\t Point(row=2, col=3)\n",
      "\t Point(row=2, col=2)\n",
      "\t Point(row=1, col=1)\n",
      "\t Point(row=0, col=0)\n",
      "\t Point(row=0, col=0)\n",
      "\t Point(row=0, col=0)\n",
      "\t Point(row=0, col=0)\n",
      "\n",
      "\n",
      "('D', 1)\n",
      "\t Point(row=3, col=1)\n",
      "\t Point(row=4, col=2)\n",
      "\t Point(row=3, col=3)\n",
      "\t Point(row=2, col=3)\n",
      "\t Point(row=2, col=2)\n",
      "\t Point(row=1, col=1)\n",
      "\t Point(row=0, col=0)\n",
      "\t Point(row=0, col=0)\n",
      "\t Point(row=0, col=0)\n",
      "\t Point(row=0, col=0)\n",
      "\n",
      "\n",
      "('R', 4)\n",
      "\t Point(row=3, col=5)\n",
      "\t Point(row=3, col=4)\n",
      "\t Point(row=3, col=3)\n",
      "\t Point(row=2, col=3)\n",
      "\t Point(row=2, col=2)\n",
      "\t Point(row=1, col=1)\n",
      "\t Point(row=0, col=0)\n",
      "\t Point(row=0, col=0)\n",
      "\t Point(row=0, col=0)\n",
      "\t Point(row=0, col=0)\n",
      "\n",
      "\n",
      "('D', 1)\n",
      "\t Point(row=2, col=5)\n",
      "\t Point(row=3, col=4)\n",
      "\t Point(row=3, col=3)\n",
      "\t Point(row=2, col=3)\n",
      "\t Point(row=2, col=2)\n",
      "\t Point(row=1, col=1)\n",
      "\t Point(row=0, col=0)\n",
      "\t Point(row=0, col=0)\n",
      "\t Point(row=0, col=0)\n",
      "\t Point(row=0, col=0)\n",
      "\n",
      "\n",
      "('L', 5)\n",
      "\t Point(row=2, col=0)\n",
      "\t Point(row=2, col=1)\n",
      "\t Point(row=2, col=2)\n",
      "\t Point(row=2, col=3)\n",
      "\t Point(row=2, col=2)\n",
      "\t Point(row=1, col=1)\n",
      "\t Point(row=0, col=0)\n",
      "\t Point(row=0, col=0)\n",
      "\t Point(row=0, col=0)\n",
      "\t Point(row=0, col=0)\n",
      "\n",
      "\n",
      "('R', 2)\n",
      "\t Point(row=2, col=2)\n",
      "\t Point(row=2, col=1)\n",
      "\t Point(row=2, col=2)\n",
      "\t Point(row=2, col=3)\n",
      "\t Point(row=2, col=2)\n",
      "\t Point(row=1, col=1)\n",
      "\t Point(row=0, col=0)\n",
      "\t Point(row=0, col=0)\n",
      "\t Point(row=0, col=0)\n",
      "\t Point(row=0, col=0)\n",
      "\n",
      "\n"
     ]
    }
   ],
   "source": [
    "for move in head_moves:\n",
    "    knots = move_rope(knots, move)\n",
    "    print(move)\n",
    "    for knot in knots:\n",
    "        print('\\t',knot)\n",
    "    print('\\n')"
   ]
  },
  {
   "cell_type": "code",
   "execution_count": 26,
   "id": "fossil-desktop",
   "metadata": {},
   "outputs": [
    {
     "data": {
      "text/plain": [
       "1"
      ]
     },
     "execution_count": 26,
     "metadata": {},
     "output_type": "execute_result"
    }
   ],
   "source": [
    "len(locs_visited)"
   ]
  },
  {
   "cell_type": "markdown",
   "id": "another-present",
   "metadata": {},
   "source": [
    "### Now run this on the input"
   ]
  },
  {
   "cell_type": "code",
   "execution_count": 29,
   "id": "distant-calculation",
   "metadata": {},
   "outputs": [],
   "source": [
    "head_moves = get_moves(get_lines('input'))\n",
    "head, tail = initialize_point_state()\n",
    "locs_visited = initialize_tail_locations()"
   ]
  },
  {
   "cell_type": "code",
   "execution_count": 30,
   "id": "artificial-humanitarian",
   "metadata": {},
   "outputs": [
    {
     "name": "stdout",
     "output_type": "stream",
     "text": [
      "2593\n"
     ]
    }
   ],
   "source": [
    "for move in head_moves:\n",
    "    knots = move_rope(knots, move)\n",
    "#     print(move)\n",
    "#     for knot in knots:\n",
    "#         print('\\t',knot)\n",
    "#     print('\\n')\n",
    "print(len(locs_visited))"
   ]
  },
  {
   "cell_type": "code",
   "execution_count": null,
   "id": "endangered-spending",
   "metadata": {},
   "outputs": [],
   "source": []
  }
 ],
 "metadata": {
  "kernelspec": {
   "display_name": "Python 3",
   "language": "python",
   "name": "python3"
  },
  "language_info": {
   "codemirror_mode": {
    "name": "ipython",
    "version": 3
   },
   "file_extension": ".py",
   "mimetype": "text/x-python",
   "name": "python",
   "nbconvert_exporter": "python",
   "pygments_lexer": "ipython3",
   "version": "3.8.5"
  }
 },
 "nbformat": 4,
 "nbformat_minor": 5
}
