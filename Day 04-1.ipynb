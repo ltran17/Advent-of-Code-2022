{
 "cells": [
  {
   "cell_type": "markdown",
   "id": "conservative-adjustment",
   "metadata": {},
   "source": [
    "--- Day 4: Camp Cleanup ---\n",
    "\n",
    "Space needs to be cleared before the last supplies can be unloaded from the ships, and so several Elves have been assigned the job of cleaning up sections of the camp. Every section has a unique ID number, and each Elf is assigned a range of section IDs.\n",
    "\n",
    "However, as some of the Elves compare their section assignments with each other, they've noticed that many of the assignments overlap. To try to quickly find overlaps and reduce duplicated effort, the Elves pair up and make a big list of the section assignments for each pair (your puzzle input).\n",
    "\n",
    "For example, consider the following list of section assignment pairs:\n",
    "\n",
    "2-4,6-8\n",
    "\n",
    "2-3,4-5\n",
    "\n",
    "5-7,7-9\n",
    "\n",
    "2-8,3-7\n",
    "\n",
    "6-6,4-6\n",
    "\n",
    "2-6,4-8\n",
    "\n",
    "For the first few pairs, this list means:\n",
    "\n",
    "Within the first pair of Elves, the first Elf was assigned sections 2-4 (sections 2, 3, and 4), while the second Elf was assigned sections 6-8 (sections 6, 7, 8).\n",
    "\n",
    "The Elves in the second pair were each assigned two sections.\n",
    "\n",
    "The Elves in the third pair were each assigned three sections: one got sections 5, 6, and 7, while the other also got 7, plus 8 and 9.\n",
    "\n",
    "This example list uses single-digit section IDs to make it easier to draw; your actual list might contain larger numbers. Visually, these pairs of section assignments look like this:\n",
    "\n",
    ".234.....  2-4\n",
    ".....678.  6-8\n",
    "\n",
    ".23......  2-3\n",
    "...45....  4-5\n",
    "\n",
    "....567..  5-7\n",
    "......789  7-9\n",
    "\n",
    ".2345678.  2-8\n",
    "..34567..  3-7\n",
    "\n",
    ".....6...  6-6\n",
    "...456...  4-6\n",
    "\n",
    ".23456...  2-6\n",
    "...45678.  4-8\n",
    "\n",
    "Some of the pairs have noticed that one of their assignments fully contains the other. For example, 2-8 fully contains 3-7, and 6-6 is fully contained by 4-6. In pairs where one assignment fully contains the other, one Elf in the pair would be exclusively cleaning sections their partner will already be cleaning, so these seem like the most in need of reconsideration. In this example, there are 2 such pairs.\n",
    "\n",
    "**In how many assignment pairs does one range fully contain the other?**"
   ]
  },
  {
   "cell_type": "code",
   "execution_count": 1,
   "id": "innovative-onion",
   "metadata": {},
   "outputs": [],
   "source": [
    "def get_lines(file_type='sample'):\n",
    "    '''\n",
    "    Read in the lines of today's sample/input file line by line. \n",
    "    Assumes the file is in folder called 'inputs/'\n",
    "    \n",
    "    Parameters\n",
    "    ----------\n",
    "    file_type : str\n",
    "        Either sample or input\n",
    "    \n",
    "    Returns\n",
    "    -------\n",
    "    list of inputs stripped of whitespace\n",
    "    '''\n",
    "    import datetime\n",
    "    day = str(datetime.datetime.today().day).zfill(2)\n",
    "    filename = f'inputs/{day}-{file_type}.txt'\n",
    "    try:\n",
    "        with open(filename,'r') as file:\n",
    "            lines = [line.strip() for line in file.readlines()]\n",
    "        return lines\n",
    "    except:\n",
    "        print(filename+' does not exist')"
   ]
  },
  {
   "cell_type": "code",
   "execution_count": 2,
   "id": "careful-genre",
   "metadata": {},
   "outputs": [],
   "source": [
    "assignments = get_lines()"
   ]
  },
  {
   "cell_type": "code",
   "execution_count": 3,
   "id": "settled-stick",
   "metadata": {},
   "outputs": [
    {
     "data": {
      "text/plain": [
       "['2-4,6-8', '2-3,4-5', '5-7,7-9', '2-8,3-7', '6-6,4-6', '2-6,4-8']"
      ]
     },
     "execution_count": 3,
     "metadata": {},
     "output_type": "execute_result"
    }
   ],
   "source": [
    "assignments"
   ]
  },
  {
   "cell_type": "code",
   "execution_count": 8,
   "id": "broadband-feeding",
   "metadata": {},
   "outputs": [],
   "source": [
    "def get_range(elf):\n",
    "    '''\n",
    "    in part 1, returns a tuple of integers\n",
    "    '''\n",
    "    lower, upper = elf.split('-')\n",
    "    return int(lower),int(upper)\n"
   ]
  },
  {
   "cell_type": "code",
   "execution_count": 9,
   "id": "aboriginal-donna",
   "metadata": {},
   "outputs": [
    {
     "data": {
      "text/plain": [
       "(2, 4)"
      ]
     },
     "execution_count": 9,
     "metadata": {},
     "output_type": "execute_result"
    }
   ],
   "source": [
    "get_range('2-4')"
   ]
  },
  {
   "cell_type": "code",
   "execution_count": 17,
   "id": "absolute-supervision",
   "metadata": {},
   "outputs": [],
   "source": [
    "def contains(elf1, elf2):\n",
    "    '''\n",
    "    does elf1's assignment contain elf2's assignment?\n",
    "    \n",
    "    Parameters\n",
    "    ----------\n",
    "    elf1 : (int, int)\n",
    "    elf2 : (int, int)\n",
    "    \n",
    "    Returns\n",
    "    -------\n",
    "    _ : bool\n",
    "    '''\n",
    "    if (elf1[0] <= elf2[0]) & (elf1[1]>=elf2[1]):\n",
    "        return True\n",
    "    return False"
   ]
  },
  {
   "cell_type": "code",
   "execution_count": 18,
   "id": "permanent-brazil",
   "metadata": {},
   "outputs": [],
   "source": [
    "def is_contained(assignment):\n",
    "    elf1, elf2 = assignment.split(',')\n",
    "    elf1 = get_range(elf1)\n",
    "    elf2 = get_range(elf2)\n",
    "    if contains(elf1,elf2) | contains(elf2,elf1):\n",
    "        return True\n",
    "    return False"
   ]
  },
  {
   "cell_type": "code",
   "execution_count": 19,
   "id": "casual-minneapolis",
   "metadata": {},
   "outputs": [
    {
     "data": {
      "text/plain": [
       "False"
      ]
     },
     "execution_count": 19,
     "metadata": {},
     "output_type": "execute_result"
    }
   ],
   "source": [
    "is_contained('2-4,6-8')"
   ]
  },
  {
   "cell_type": "code",
   "execution_count": 20,
   "id": "presidential-amplifier",
   "metadata": {},
   "outputs": [
    {
     "name": "stdout",
     "output_type": "stream",
     "text": [
      "False\n",
      "False\n",
      "False\n",
      "True\n",
      "True\n",
      "False\n"
     ]
    }
   ],
   "source": [
    "for assignment in assignments:\n",
    "    print(is_contained(assignment))"
   ]
  },
  {
   "cell_type": "code",
   "execution_count": 21,
   "id": "italic-albuquerque",
   "metadata": {},
   "outputs": [
    {
     "data": {
      "text/plain": [
       "2"
      ]
     },
     "execution_count": 21,
     "metadata": {},
     "output_type": "execute_result"
    }
   ],
   "source": [
    "sum([is_contained(assignment) for assignment in assignments])"
   ]
  },
  {
   "cell_type": "code",
   "execution_count": 22,
   "id": "adapted-nerve",
   "metadata": {},
   "outputs": [],
   "source": [
    "assignments = get_lines(file_type='input')"
   ]
  },
  {
   "cell_type": "code",
   "execution_count": 23,
   "id": "crazy-commitment",
   "metadata": {},
   "outputs": [
    {
     "data": {
      "text/plain": [
       "588"
      ]
     },
     "execution_count": 23,
     "metadata": {},
     "output_type": "execute_result"
    }
   ],
   "source": [
    "sum([is_contained(assignment) for assignment in assignments])"
   ]
  },
  {
   "cell_type": "code",
   "execution_count": null,
   "id": "municipal-quick",
   "metadata": {},
   "outputs": [],
   "source": []
  }
 ],
 "metadata": {
  "kernelspec": {
   "display_name": "Python 3",
   "language": "python",
   "name": "python3"
  },
  "language_info": {
   "codemirror_mode": {
    "name": "ipython",
    "version": 3
   },
   "file_extension": ".py",
   "mimetype": "text/x-python",
   "name": "python",
   "nbconvert_exporter": "python",
   "pygments_lexer": "ipython3",
   "version": "3.8.5"
  }
 },
 "nbformat": 4,
 "nbformat_minor": 5
}
