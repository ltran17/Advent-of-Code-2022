{
 "cells": [
  {
   "cell_type": "markdown",
   "id": "packed-automation",
   "metadata": {},
   "source": [
    "--- Part Two ---\n",
    "\n",
    "As you finish identifying the misplaced items, the Elves come to you with another issue.\n",
    "\n",
    "For safety, the Elves are divided into groups of three. Every Elf carries a badge that identifies their group. For efficiency, within each group of three Elves, the badge is the only item type carried by all three Elves. That is, if a group's badge is item type B, then all three Elves will have item type B somewhere in their rucksack, and at most two of the Elves will be carrying any other item type.\n",
    "\n",
    "The problem is that someone forgot to put this year's updated authenticity sticker on the badges. All of the badges need to be pulled out of the rucksacks so the new authenticity stickers can be attached.\n",
    "\n",
    "Additionally, nobody wrote down which item type corresponds to each group's badges. The only way to tell which item type is the right one is by finding the one item type that is common between all three Elves in each group.\n",
    "\n",
    "Every set of three lines in your list corresponds to a single group, but each group can have a different badge item type. So, in the above example, the first group's rucksacks are the first three lines:\n",
    "\n",
    "vJrwpWtwJgWrhcsFMMfFFhFp\n",
    "\n",
    "jqHRNqRjqzjGDLGLrsFMfFZSrLrFZsSL\n",
    "\n",
    "PmmdzqPrVvPwwTWBwg\n",
    "\n",
    "And the second group's rucksacks are the next three lines:\n",
    "\n",
    "wMqvLMZHhHMvwLHjbvcjnnSBnvTQFn\n",
    "\n",
    "ttgJtRGJQctTZtZT\n",
    "\n",
    "CrZsJsPPZsGzwwsLwLmpwMDw\n",
    "\n",
    "In the first group, the only item type that appears in all three rucksacks is lowercase r; this must be their badges. In the second group, their badge item type must be Z.\n",
    "\n",
    "Priorities for these items must still be found to organize the sticker attachment efforts: here, they are 18 (r) for the first group and 52 (Z) for the second group. The sum of these is 70.\n",
    "\n",
    "Find the item type that corresponds to the badges of each three-Elf group. What is the sum of the priorities of those item types?"
   ]
  },
  {
   "cell_type": "code",
   "execution_count": 1,
   "id": "uniform-vermont",
   "metadata": {},
   "outputs": [],
   "source": [
    "def get_lines(file_type='sample'):\n",
    "    '''\n",
    "    Read in the lines of today's sample/input file line by line. \n",
    "    Assumes the file is in folder called 'inputs/'\n",
    "    \n",
    "    Parameters\n",
    "    ----------\n",
    "    file_type : str\n",
    "        Either sample or input\n",
    "    \n",
    "    Returns\n",
    "    -------\n",
    "    list of inputs stripped of whitespace\n",
    "    '''\n",
    "    import datetime\n",
    "    day = str(datetime.datetime.today().day).zfill(2)\n",
    "    filename = f'inputs/{day}-{file_type}.txt'\n",
    "    try:\n",
    "        with open(filename,'r') as file:\n",
    "            lines = [line.strip() for line in file.readlines()]\n",
    "        return lines\n",
    "    except:\n",
    "        print(filename+' does not exist')"
   ]
  },
  {
   "cell_type": "code",
   "execution_count": 43,
   "id": "nuclear-islam",
   "metadata": {},
   "outputs": [],
   "source": [
    "rucksack = get_lines('sample')"
   ]
  },
  {
   "cell_type": "code",
   "execution_count": 44,
   "id": "surprising-puppy",
   "metadata": {},
   "outputs": [
    {
     "data": {
      "text/plain": [
       "6"
      ]
     },
     "execution_count": 44,
     "metadata": {},
     "output_type": "execute_result"
    }
   ],
   "source": [
    "len(rucksack)"
   ]
  },
  {
   "cell_type": "code",
   "execution_count": 45,
   "id": "russian-light",
   "metadata": {},
   "outputs": [],
   "source": [
    "def get_group(rucksack, index):\n",
    "    '''\n",
    "    Helper function: This is a goofy way to split the rucksack up into groups of three\n",
    "    '''\n",
    "    return rucksack[index:index+3]"
   ]
  },
  {
   "cell_type": "code",
   "execution_count": 46,
   "id": "valid-theme",
   "metadata": {},
   "outputs": [],
   "source": [
    "def get_groups(rucksack):\n",
    "    num_groups = len(rucksack)//3\n",
    "    groups = list()\n",
    "    for i in range(0,num_groups):\n",
    "        groups.append(get_group(rucksack,3*i))\n",
    "    return groups"
   ]
  },
  {
   "cell_type": "code",
   "execution_count": 47,
   "id": "freelance-value",
   "metadata": {},
   "outputs": [
    {
     "data": {
      "text/plain": [
       "[['vJrwpWtwJgWrhcsFMMfFFhFp',\n",
       "  'jqHRNqRjqzjGDLGLrsFMfFZSrLrFZsSL',\n",
       "  'PmmdzqPrVvPwwTWBwg'],\n",
       " ['wMqvLMZHhHMvwLHjbvcjnnSBnvTQFn',\n",
       "  'ttgJtRGJQctTZtZT',\n",
       "  'CrZsJsPPZsGzwwsLwLmpwMDw']]"
      ]
     },
     "execution_count": 47,
     "metadata": {},
     "output_type": "execute_result"
    }
   ],
   "source": [
    "groups = get_groups(rucksack)\n",
    "groups"
   ]
  },
  {
   "cell_type": "code",
   "execution_count": 48,
   "id": "accepted-invalid",
   "metadata": {},
   "outputs": [],
   "source": [
    "def get_badge(group):\n",
    "    badge = set(group[0]).intersection(set(group[1])).intersection(set(group[2]))\n",
    "    return badge"
   ]
  },
  {
   "cell_type": "code",
   "execution_count": 31,
   "id": "hourly-johns",
   "metadata": {},
   "outputs": [
    {
     "data": {
      "text/plain": [
       "{'r'}"
      ]
     },
     "execution_count": 31,
     "metadata": {},
     "output_type": "execute_result"
    }
   ],
   "source": [
    "get_badge(groups[0])"
   ]
  },
  {
   "cell_type": "code",
   "execution_count": 32,
   "id": "ultimate-marriage",
   "metadata": {},
   "outputs": [
    {
     "data": {
      "text/plain": [
       "{'Z'}"
      ]
     },
     "execution_count": 32,
     "metadata": {},
     "output_type": "execute_result"
    }
   ],
   "source": [
    "get_badge(groups[1])"
   ]
  },
  {
   "cell_type": "code",
   "execution_count": 33,
   "id": "stylish-translator",
   "metadata": {},
   "outputs": [],
   "source": [
    "def get_priority(item):\n",
    "    '''\n",
    "    Helper function: get priority value of the item\n",
    "    \n",
    "    Parameters\n",
    "    ----------\n",
    "    item : char\n",
    "    \n",
    "    Returns\n",
    "    -------\n",
    "    priority : int\n",
    "    '''\n",
    "    if item.islower():\n",
    "        n = 96 # constant to subtract from the ascii value to get the priority value\n",
    "    elif item.isupper():\n",
    "        n = 38\n",
    "    priority = ord(item)-n\n",
    "    return priority"
   ]
  },
  {
   "cell_type": "code",
   "execution_count": 37,
   "id": "improved-diana",
   "metadata": {},
   "outputs": [],
   "source": [
    "def get_badge_value(badge):\n",
    "    total = 0\n",
    "    for item in badge:\n",
    "        total += get_priority(item)\n",
    "    return total"
   ]
  },
  {
   "cell_type": "code",
   "execution_count": 38,
   "id": "killing-engineering",
   "metadata": {},
   "outputs": [],
   "source": [
    "def get_total_badge_values(groups):\n",
    "    total = 0\n",
    "    for group in groups:\n",
    "        badge = get_badge(group)\n",
    "        total += get_badge_value(badge)\n",
    "    return total\n",
    "    "
   ]
  },
  {
   "cell_type": "code",
   "execution_count": 39,
   "id": "quality-stand",
   "metadata": {},
   "outputs": [
    {
     "data": {
      "text/plain": [
       "70"
      ]
     },
     "execution_count": 39,
     "metadata": {},
     "output_type": "execute_result"
    }
   ],
   "source": [
    "get_total_badge_values(groups)"
   ]
  },
  {
   "cell_type": "code",
   "execution_count": 41,
   "id": "considered-essex",
   "metadata": {},
   "outputs": [
    {
     "data": {
      "text/plain": [
       "2585"
      ]
     },
     "execution_count": 41,
     "metadata": {},
     "output_type": "execute_result"
    }
   ],
   "source": [
    "rucksack = get_lines('input')\n",
    "groups = get_groups(rucksack)\n",
    "total = get_total_badge_values(groups)\n",
    "total"
   ]
  },
  {
   "cell_type": "code",
   "execution_count": null,
   "id": "everyday-swimming",
   "metadata": {},
   "outputs": [],
   "source": []
  }
 ],
 "metadata": {
  "kernelspec": {
   "display_name": "Python 3",
   "language": "python",
   "name": "python3"
  },
  "language_info": {
   "codemirror_mode": {
    "name": "ipython",
    "version": 3
   },
   "file_extension": ".py",
   "mimetype": "text/x-python",
   "name": "python",
   "nbconvert_exporter": "python",
   "pygments_lexer": "ipython3",
   "version": "3.8.5"
  }
 },
 "nbformat": 4,
 "nbformat_minor": 5
}
