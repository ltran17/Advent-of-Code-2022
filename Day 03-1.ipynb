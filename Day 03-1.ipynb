{
 "cells": [
  {
   "cell_type": "markdown",
   "id": "distinct-capital",
   "metadata": {},
   "source": [
    "--- Day 3: Rucksack Reorganization ---\n",
    "\n",
    "One Elf has the important job of loading all of the rucksacks with supplies for the jungle journey. Unfortunately, that Elf didn't quite follow the packing instructions, and so a few items now need to be rearranged.\n",
    "\n",
    "Each rucksack has two large compartments. All items of a given type are meant to go into exactly one of the two compartments. The Elf that did the packing failed to follow this rule for exactly one item type per rucksack.\n",
    "\n",
    "The Elves have made a list of all of the items currently in each rucksack (your puzzle input), but they need your help finding the errors. Every item type is identified by a single lowercase or uppercase letter (that is, a and A refer to different types of items).\n",
    "\n",
    "The list of items for each rucksack is given as characters all on a single line. A given rucksack always has the same number of items in each of its two compartments, so the first half of the characters represent items in the first compartment, while the second half of the characters represent items in the second compartment.\n",
    "\n",
    "For example, suppose you have the following list of contents from six rucksacks:\n",
    "\n",
    "vJrwpWtwJgWrhcsFMMfFFhFp\n",
    "\n",
    "jqHRNqRjqzjGDLGLrsFMfFZSrLrFZsSL\n",
    "\n",
    "PmmdzqPrVvPwwTWBwg\n",
    "\n",
    "wMqvLMZHhHMvwLHjbvcjnnSBnvTQFn\n",
    "\n",
    "ttgJtRGJQctTZtZT\n",
    "\n",
    "CrZsJsPPZsGzwwsLwLmpwMDw\n",
    "\n",
    "The first rucksack contains the items vJrwpWtwJgWrhcsFMMfFFhFp, which means its first compartment contains the items vJrwpWtwJgWr, while the second compartment contains the items hcsFMMfFFhFp. The only item type that appears in both compartments is lowercase p.\n",
    "\n",
    "The second rucksack's compartments contain jqHRNqRjqzjGDLGL and rsFMfFZSrLrFZsSL. The only item type that appears in both compartments is uppercase L.\n",
    "\n",
    "The third rucksack's compartments contain PmmdzqPrV and vPwwTWBwg; the only common item type is uppercase P.\n",
    "The fourth rucksack's compartments only share item type v.\n",
    "\n",
    "The fifth rucksack's compartments only share item type t.\n",
    "\n",
    "The sixth rucksack's compartments only share item type s.\n",
    "\n",
    "To help prioritize item rearrangement, every item type can be converted to a priority:\n",
    "\n",
    "Lowercase item types a through z have priorities 1 through 26.\n",
    "\n",
    "Uppercase item types A through Z have priorities 27 through 52.\n",
    "\n",
    "In the above example, the priority of the item type that appears in both compartments of each rucksack is 16 (p), 38 (L), 42 (P), 22 (v), 20 (t), and 19 (s); the sum of these is 157.\n",
    "\n",
    "Find the item type that appears in both compartments of each rucksack. **What is the sum of the priorities of those item types?**"
   ]
  },
  {
   "cell_type": "code",
   "execution_count": 1,
   "id": "together-consequence",
   "metadata": {},
   "outputs": [],
   "source": [
    "def get_lines(file_type='sample'):\n",
    "    '''\n",
    "    Read in the lines of today's sample/input file line by line. \n",
    "    Assumes the file is in folder called 'inputs/'\n",
    "    \n",
    "    Parameters\n",
    "    ----------\n",
    "    file_type : str\n",
    "        Either sample or input\n",
    "    \n",
    "    Returns\n",
    "    -------\n",
    "    list of inputs stripped of whitespace\n",
    "    '''\n",
    "    import datetime\n",
    "    day = str(datetime.datetime.today().day).zfill(2)\n",
    "    filename = f'inputs/{day}-{file_type}.txt'\n",
    "    try:\n",
    "        with open(filename,'r') as file:\n",
    "            lines = [line.strip() for line in file.readlines()]\n",
    "        return lines\n",
    "    except:\n",
    "        print(filename+' does not exist')"
   ]
  },
  {
   "cell_type": "code",
   "execution_count": 50,
   "id": "unusual-soccer",
   "metadata": {},
   "outputs": [],
   "source": [
    "rucksack = get_lines('sample')"
   ]
  },
  {
   "cell_type": "code",
   "execution_count": 28,
   "id": "relevant-requirement",
   "metadata": {},
   "outputs": [],
   "source": [
    "def split_items(items):\n",
    "    '''\n",
    "    Helper function: Divide the items into two compartments, return them as sets.\n",
    "    \n",
    "    Parameters\n",
    "    ----------\n",
    "    items : str\n",
    "    \n",
    "    Returns\n",
    "    -------\n",
    "    compartment1 : set\n",
    "    compartment2 : set\n",
    "    '''\n",
    "    mid = len(items)//2\n",
    "    compartment1, compartment2 = set(items[:mid]),set(items[mid:])\n",
    "    return compartment1, compartment2"
   ]
  },
  {
   "cell_type": "code",
   "execution_count": 44,
   "id": "discrete-destruction",
   "metadata": {},
   "outputs": [],
   "source": [
    "def get_overlap(items):\n",
    "    '''\n",
    "    Identify the item(s) appearing in both compartments.\n",
    "    \n",
    "    Parameters\n",
    "    ----------\n",
    "    items : str\n",
    "    \n",
    "    Returns\n",
    "    -------\n",
    "    overlap : set\n",
    "    '''\n",
    "    compartment1, compartment2 = split_items(items)\n",
    "    overlap = compartment1.intersection(compartment2)\n",
    "    return overlap"
   ]
  },
  {
   "cell_type": "code",
   "execution_count": 35,
   "id": "another-cooperative",
   "metadata": {},
   "outputs": [],
   "source": [
    "def get_priority(item):\n",
    "    '''\n",
    "    Helper function: get priority value of the item\n",
    "    \n",
    "    Parameters\n",
    "    ----------\n",
    "    item : char\n",
    "    \n",
    "    Returns\n",
    "    -------\n",
    "    priority : int\n",
    "    '''\n",
    "    if item.islower():\n",
    "        n = 96 # constant to subtract from the ascii value to get the priority value\n",
    "    elif item.isupper():\n",
    "        n = 38\n",
    "    priority = ord(item)-n\n",
    "    return priority"
   ]
  },
  {
   "cell_type": "code",
   "execution_count": 46,
   "id": "opposed-cleveland",
   "metadata": {},
   "outputs": [],
   "source": [
    "def get_overlap_value(overlap):\n",
    "    '''\n",
    "    Overlap is a set of items. Return the total value of the overlapping set.\n",
    "    \n",
    "    Parameters\n",
    "    ----------\n",
    "    overlap : set\n",
    "    \n",
    "    Returns\n",
    "    -------\n",
    "    total : int\n",
    "    '''\n",
    "    total = 0\n",
    "    for item in overlap:\n",
    "        total += get_priority(item)\n",
    "    return total\n",
    "        "
   ]
  },
  {
   "cell_type": "code",
   "execution_count": 51,
   "id": "paperback-kernel",
   "metadata": {},
   "outputs": [],
   "source": [
    "def get_total_priorities(rucksack):\n",
    "    total = 0\n",
    "    for items in rucksack:\n",
    "        overlap = get_overlap(items)\n",
    "        priority = get_overlap_value(overlap)\n",
    "        total += priority\n",
    "    return total"
   ]
  },
  {
   "cell_type": "code",
   "execution_count": 52,
   "id": "occupational-matrix",
   "metadata": {},
   "outputs": [
    {
     "data": {
      "text/plain": [
       "157"
      ]
     },
     "execution_count": 52,
     "metadata": {},
     "output_type": "execute_result"
    }
   ],
   "source": [
    "get_total_priorities(rucksack)"
   ]
  },
  {
   "cell_type": "code",
   "execution_count": 53,
   "id": "needed-trace",
   "metadata": {},
   "outputs": [],
   "source": [
    "rucksack = get_lines('input')"
   ]
  },
  {
   "cell_type": "code",
   "execution_count": 54,
   "id": "enormous-action",
   "metadata": {},
   "outputs": [
    {
     "data": {
      "text/plain": [
       "7917"
      ]
     },
     "execution_count": 54,
     "metadata": {},
     "output_type": "execute_result"
    }
   ],
   "source": [
    "get_total_priorities(rucksack)"
   ]
  },
  {
   "cell_type": "code",
   "execution_count": null,
   "id": "outside-beads",
   "metadata": {},
   "outputs": [],
   "source": []
  }
 ],
 "metadata": {
  "kernelspec": {
   "display_name": "Python 3",
   "language": "python",
   "name": "python3"
  },
  "language_info": {
   "codemirror_mode": {
    "name": "ipython",
    "version": 3
   },
   "file_extension": ".py",
   "mimetype": "text/x-python",
   "name": "python",
   "nbconvert_exporter": "python",
   "pygments_lexer": "ipython3",
   "version": "3.8.5"
  }
 },
 "nbformat": 4,
 "nbformat_minor": 5
}
