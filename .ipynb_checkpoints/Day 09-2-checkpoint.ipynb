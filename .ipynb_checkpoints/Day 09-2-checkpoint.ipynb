{
 "cells": [
  {
   "cell_type": "code",
   "execution_count": 1,
   "id": "possible-fancy",
   "metadata": {},
   "outputs": [],
   "source": [
    "def get_lines(file_type='sample'):\n",
    "    '''\n",
    "    Read in the lines of today's sample/input file line by line. \n",
    "    Assumes the file is in folder called 'inputs/'\n",
    "    \n",
    "    Parameters\n",
    "    ----------\n",
    "    file_type : str\n",
    "        Either sample or input\n",
    "    \n",
    "    Returns\n",
    "    -------\n",
    "    list of inputs stripped of whitespace\n",
    "    '''\n",
    "    import datetime\n",
    "    day = str(datetime.datetime.today().day).zfill(2)\n",
    "    filename = f'inputs/{day}-{file_type}.txt'\n",
    "    try:\n",
    "        with open(filename,'r') as file:\n",
    "            lines = [line.strip() for line in file.readlines()]\n",
    "        return lines\n",
    "    except:\n",
    "        print(filename+' does not exist')"
   ]
  },
  {
   "cell_type": "code",
   "execution_count": 2,
   "id": "conditional-approval",
   "metadata": {},
   "outputs": [],
   "source": [
    "sample = get_lines('sample')"
   ]
  },
  {
   "cell_type": "code",
   "execution_count": 3,
   "id": "offensive-boost",
   "metadata": {},
   "outputs": [
    {
     "data": {
      "text/plain": [
       "['R 4', 'U 4', 'L 3', 'D 1', 'R 4', 'D 1', 'L 5', 'R 2']"
      ]
     },
     "execution_count": 3,
     "metadata": {},
     "output_type": "execute_result"
    }
   ],
   "source": [
    "sample"
   ]
  },
  {
   "cell_type": "code",
   "execution_count": 4,
   "id": "fifteen-douglas",
   "metadata": {},
   "outputs": [],
   "source": [
    "def parse_move(move):\n",
    "    split = move.split(' ')\n",
    "    direction = split[0]\n",
    "    steps = int(split[1])\n",
    "    return direction, steps"
   ]
  },
  {
   "cell_type": "code",
   "execution_count": 5,
   "id": "executive-interview",
   "metadata": {},
   "outputs": [
    {
     "data": {
      "text/plain": [
       "('R', 4)"
      ]
     },
     "execution_count": 5,
     "metadata": {},
     "output_type": "execute_result"
    }
   ],
   "source": [
    "parse_move('R 4')"
   ]
  },
  {
   "cell_type": "markdown",
   "id": "greenhouse-blend",
   "metadata": {},
   "source": [
    "Assume that the head and tail start in the same position, (0,0). Keep track of the position of the head and the tail with coordinates."
   ]
  },
  {
   "cell_type": "code",
   "execution_count": 6,
   "id": "mysterious-fraction",
   "metadata": {},
   "outputs": [],
   "source": [
    "from collections import namedtuple"
   ]
  },
  {
   "cell_type": "code",
   "execution_count": 7,
   "id": "quantitative-confidentiality",
   "metadata": {},
   "outputs": [],
   "source": [
    "Point = namedtuple('Point','row col')"
   ]
  },
  {
   "cell_type": "code",
   "execution_count": 8,
   "id": "prerequisite-mercury",
   "metadata": {},
   "outputs": [],
   "source": [
    "head = Point(0,0)\n",
    "tail = Point(0,0)"
   ]
  },
  {
   "cell_type": "code",
   "execution_count": 9,
   "id": "municipal-blake",
   "metadata": {},
   "outputs": [
    {
     "data": {
      "text/plain": [
       "Point(row=0, col=0)"
      ]
     },
     "execution_count": 9,
     "metadata": {},
     "output_type": "execute_result"
    }
   ],
   "source": [
    "head"
   ]
  },
  {
   "cell_type": "markdown",
   "id": "measured-killing",
   "metadata": {},
   "source": [
    "**`After each step, you'll need to update the position of the tail if the step means the head is no longer adjacent to the tail.`**"
   ]
  },
  {
   "cell_type": "code",
   "execution_count": 10,
   "id": "applicable-creature",
   "metadata": {},
   "outputs": [],
   "source": [
    "def step_up(point, steps=1):\n",
    "    loc = Point(point.row+steps, point.col)\n",
    "    return loc\n",
    "\n",
    "def step_down(point, steps=1):\n",
    "    loc = Point(point.row-steps, point.col)\n",
    "    return loc\n",
    "\n",
    "def step_right(point, steps=1):\n",
    "    loc = Point(point.row, point.col+steps)\n",
    "    return loc\n",
    "\n",
    "def step_left(point, steps=1):\n",
    "    loc = Point(point.row, point.col-steps)\n",
    "    return loc"
   ]
  },
  {
   "cell_type": "code",
   "execution_count": 11,
   "id": "million-tumor",
   "metadata": {},
   "outputs": [],
   "source": [
    "def is_adjacent(head,tail):\n",
    "    if (abs(head.row-tail.row) <= 1) & (abs(head.col-tail.col) <= 1):\n",
    "        return True\n",
    "    return False"
   ]
  },
  {
   "cell_type": "markdown",
   "id": "preliminary-hurricane",
   "metadata": {},
   "source": [
    "**`If the head is ever two steps directly up, down, left, or right from the tail, the tail must also move one step in that direction;\n",
    "if the head and tail aren't touching and aren't in the same row or column, the tail always moves one step diagonally to keep up`**"
   ]
  },
  {
   "cell_type": "code",
   "execution_count": 12,
   "id": "recreational-perfume",
   "metadata": {},
   "outputs": [],
   "source": [
    "def check_diagonal(head,tail):\n",
    "    if (abs(head.row-tail.row) > 0) & (abs(head.col-tail.col) > 0):\n",
    "#         print('is diagonal')\n",
    "        return True\n",
    "    return False"
   ]
  },
  {
   "cell_type": "code",
   "execution_count": 13,
   "id": "miniature-weather",
   "metadata": {},
   "outputs": [],
   "source": [
    "def step_diagonal(head,tail):\n",
    "    if head.row > tail.row:\n",
    "        tail = step_up(tail)\n",
    "    else:\n",
    "        tail = step_down(tail)\n",
    "    if head.col > tail.col:\n",
    "        tail = step_right(tail)\n",
    "    else:\n",
    "        tail = step_left(tail)\n",
    "    return tail"
   ]
  },
  {
   "cell_type": "code",
   "execution_count": 34,
   "id": "material-mentor",
   "metadata": {},
   "outputs": [],
   "source": [
    "def update_knot(previous,current):\n",
    "    '''assumes NOT adjacent, will always move the tail'''\n",
    "    if check_diagonal(previous,current):\n",
    "        return step_diagonal(previous,current)\n",
    "    if previous.row > current.row:\n",
    "        return step_up(current)\n",
    "    elif previous.row < current.row:\n",
    "        return step_down(current)\n",
    "    if previous.col > current.col:\n",
    "        return step_right(current)\n",
    "    elif previous.col < current.col:\n",
    "        return step_left(current)\n",
    "    print('update knot error')\n",
    "    return None\n",
    "\n",
    "        "
   ]
  },
  {
   "cell_type": "code",
   "execution_count": 35,
   "id": "reverse-electron",
   "metadata": {},
   "outputs": [],
   "source": [
    "def make_tail_step(previous,tail):\n",
    "    locs_visited.add(tail)\n",
    "    if not is_adjacent(previous,tail):\n",
    "        tail = update_knot(previous,tail)\n",
    "#         print('tail moved to ',tail)\n",
    "    else:\n",
    "        pass\n",
    "#         print('tail not moved')\n",
    "    locs_visited.add(tail)\n",
    "    return tail\n",
    "    "
   ]
  },
  {
   "cell_type": "code",
   "execution_count": 33,
   "id": "effective-mother",
   "metadata": {},
   "outputs": [],
   "source": [
    "def make_head_step(head, direction):\n",
    "    if direction=='U':\n",
    "        head = step_up(head)\n",
    "    elif direction=='D':\n",
    "        head = step_down(head)\n",
    "    elif direction=='R':\n",
    "        head = step_right(head)\n",
    "    elif direction=='L':\n",
    "        head = step_left(head)\n",
    "    else:\n",
    "        print('error in direction')\n",
    "    return head"
   ]
  },
  {
   "cell_type": "code",
   "execution_count": 38,
   "id": "wanted-isaac",
   "metadata": {},
   "outputs": [],
   "source": [
    "def make_knot_step(previous, current):\n",
    "    if not is_adjacent(previous, current):\n",
    "        current = update_knot(previous, current)\n",
    "    else:\n",
    "        pass\n",
    "    return current"
   ]
  },
  {
   "cell_type": "code",
   "execution_count": 39,
   "id": "sorted-hydrogen",
   "metadata": {},
   "outputs": [],
   "source": [
    "def initialize_tail_locations():\n",
    "    return set()"
   ]
  },
  {
   "cell_type": "code",
   "execution_count": 40,
   "id": "northern-liechtenstein",
   "metadata": {},
   "outputs": [],
   "source": [
    "def initialize_point_state():\n",
    "    return (Point(0,0),Point(0,0))"
   ]
  },
  {
   "cell_type": "code",
   "execution_count": 41,
   "id": "engaged-boating",
   "metadata": {},
   "outputs": [],
   "source": [
    "def get_moves(file_lines):\n",
    "    return [parse_move(move) for move in file_lines]"
   ]
  },
  {
   "cell_type": "markdown",
   "id": "serial-breakdown",
   "metadata": {},
   "source": [
    "### Initialize states"
   ]
  },
  {
   "cell_type": "markdown",
   "id": "addressed-salvation",
   "metadata": {},
   "source": [
    "In this version, the rope has 10 knots to keep track of. They all start in the same location."
   ]
  },
  {
   "cell_type": "markdown",
   "id": "constitutional-siemens",
   "metadata": {},
   "source": [
    "The head of this rope is `knots[0]` and the tail is `knots[9]`."
   ]
  },
  {
   "cell_type": "code",
   "execution_count": 55,
   "id": "lesser-sense",
   "metadata": {},
   "outputs": [
    {
     "data": {
      "text/plain": [
       "[('R', 4),\n",
       " ('U', 4),\n",
       " ('L', 3),\n",
       " ('D', 1),\n",
       " ('R', 4),\n",
       " ('D', 1),\n",
       " ('L', 5),\n",
       " ('R', 2)]"
      ]
     },
     "execution_count": 55,
     "metadata": {},
     "output_type": "execute_result"
    }
   ],
   "source": [
    "head_moves = get_moves(get_lines('sample'))\n",
    "head_moves"
   ]
  },
  {
   "cell_type": "code",
   "execution_count": 56,
   "id": "infinite-deployment",
   "metadata": {},
   "outputs": [
    {
     "data": {
      "text/plain": [
       "([Point(row=0, col=0),\n",
       "  Point(row=0, col=0),\n",
       "  Point(row=0, col=0),\n",
       "  Point(row=0, col=0),\n",
       "  Point(row=0, col=0),\n",
       "  Point(row=0, col=0),\n",
       "  Point(row=0, col=0),\n",
       "  Point(row=0, col=0),\n",
       "  Point(row=0, col=0),\n",
       "  Point(row=0, col=0)],\n",
       " set())"
      ]
     },
     "execution_count": 56,
     "metadata": {},
     "output_type": "execute_result"
    }
   ],
   "source": [
    "knots = [Point(0,0) for knot in range(10)]\n",
    "locs_visited = initialize_tail_locations()\n",
    "knots, locs_visited"
   ]
  },
  {
   "cell_type": "code",
   "execution_count": 65,
   "id": "ecological-milwaukee",
   "metadata": {},
   "outputs": [
    {
     "data": {
      "text/plain": [
       "[Point(row=2, col=5),\n",
       " Point(row=3, col=4),\n",
       " Point(row=3, col=3),\n",
       " Point(row=2, col=3),\n",
       " Point(row=2, col=2),\n",
       " Point(row=1, col=1),\n",
       " Point(row=0, col=0),\n",
       " Point(row=0, col=0),\n",
       " Point(row=0, col=0),\n",
       " Point(row=0, col=0)]"
      ]
     },
     "execution_count": 65,
     "metadata": {},
     "output_type": "execute_result"
    }
   ],
   "source": [
    "move_rope(knots, head_moves[5])"
   ]
  },
  {
   "cell_type": "code",
   "execution_count": 66,
   "id": "adequate-country",
   "metadata": {},
   "outputs": [
    {
     "data": {
      "text/plain": [
       "{Point(row=0, col=0)}"
      ]
     },
     "execution_count": 66,
     "metadata": {},
     "output_type": "execute_result"
    }
   ],
   "source": [
    "locs_visited"
   ]
  },
  {
   "cell_type": "code",
   "execution_count": 46,
   "id": "steady-cabin",
   "metadata": {},
   "outputs": [],
   "source": [
    "def move_rope(knots, move):\n",
    "    direction, steps = move\n",
    "    for step in range(steps):\n",
    "        knots[0] = make_head_step(knots[0], direction)\n",
    "        for i in range(1,9):\n",
    "            knots[i] = make_knot_step(knots[i-1],knots[i])\n",
    "        knots[9] = make_tail_step(knots[8],knots[9])\n",
    "    return knots\n",
    "        "
   ]
  },
  {
   "cell_type": "code",
   "execution_count": 67,
   "id": "baking-coordination",
   "metadata": {},
   "outputs": [
    {
     "name": "stdout",
     "output_type": "stream",
     "text": [
      "('R', 4)\n",
      "\t Point(row=2, col=9)\n",
      "\t Point(row=2, col=8)\n",
      "\t Point(row=2, col=7)\n",
      "\t Point(row=2, col=6)\n",
      "\t Point(row=2, col=5)\n",
      "\t Point(row=2, col=4)\n",
      "\t Point(row=2, col=3)\n",
      "\t Point(row=2, col=2)\n",
      "\t Point(row=1, col=1)\n",
      "\t Point(row=0, col=0)\n",
      "\n",
      "\n",
      "('U', 4)\n",
      "\t Point(row=6, col=9)\n",
      "\t Point(row=5, col=9)\n",
      "\t Point(row=4, col=9)\n",
      "\t Point(row=4, col=8)\n",
      "\t Point(row=4, col=7)\n",
      "\t Point(row=4, col=6)\n",
      "\t Point(row=4, col=5)\n",
      "\t Point(row=4, col=4)\n",
      "\t Point(row=3, col=3)\n",
      "\t Point(row=2, col=2)\n",
      "\n",
      "\n",
      "('L', 3)\n",
      "\t Point(row=6, col=6)\n",
      "\t Point(row=6, col=7)\n",
      "\t Point(row=5, col=8)\n",
      "\t Point(row=4, col=8)\n",
      "\t Point(row=4, col=7)\n",
      "\t Point(row=4, col=6)\n",
      "\t Point(row=4, col=5)\n",
      "\t Point(row=4, col=4)\n",
      "\t Point(row=3, col=3)\n",
      "\t Point(row=2, col=2)\n",
      "\n",
      "\n",
      "('D', 1)\n",
      "\t Point(row=5, col=6)\n",
      "\t Point(row=6, col=7)\n",
      "\t Point(row=5, col=8)\n",
      "\t Point(row=4, col=8)\n",
      "\t Point(row=4, col=7)\n",
      "\t Point(row=4, col=6)\n",
      "\t Point(row=4, col=5)\n",
      "\t Point(row=4, col=4)\n",
      "\t Point(row=3, col=3)\n",
      "\t Point(row=2, col=2)\n",
      "\n",
      "\n",
      "('R', 4)\n",
      "\t Point(row=5, col=10)\n",
      "\t Point(row=5, col=9)\n",
      "\t Point(row=5, col=8)\n",
      "\t Point(row=4, col=8)\n",
      "\t Point(row=4, col=7)\n",
      "\t Point(row=4, col=6)\n",
      "\t Point(row=4, col=5)\n",
      "\t Point(row=4, col=4)\n",
      "\t Point(row=3, col=3)\n",
      "\t Point(row=2, col=2)\n",
      "\n",
      "\n",
      "('D', 1)\n",
      "\t Point(row=4, col=10)\n",
      "\t Point(row=5, col=9)\n",
      "\t Point(row=5, col=8)\n",
      "\t Point(row=4, col=8)\n",
      "\t Point(row=4, col=7)\n",
      "\t Point(row=4, col=6)\n",
      "\t Point(row=4, col=5)\n",
      "\t Point(row=4, col=4)\n",
      "\t Point(row=3, col=3)\n",
      "\t Point(row=2, col=2)\n",
      "\n",
      "\n",
      "('L', 5)\n",
      "\t Point(row=4, col=5)\n",
      "\t Point(row=4, col=6)\n",
      "\t Point(row=4, col=7)\n",
      "\t Point(row=4, col=8)\n",
      "\t Point(row=4, col=7)\n",
      "\t Point(row=4, col=6)\n",
      "\t Point(row=4, col=5)\n",
      "\t Point(row=4, col=4)\n",
      "\t Point(row=3, col=3)\n",
      "\t Point(row=2, col=2)\n",
      "\n",
      "\n",
      "('R', 2)\n",
      "\t Point(row=4, col=7)\n",
      "\t Point(row=4, col=6)\n",
      "\t Point(row=4, col=7)\n",
      "\t Point(row=4, col=8)\n",
      "\t Point(row=4, col=7)\n",
      "\t Point(row=4, col=6)\n",
      "\t Point(row=4, col=5)\n",
      "\t Point(row=4, col=4)\n",
      "\t Point(row=3, col=3)\n",
      "\t Point(row=2, col=2)\n",
      "\n",
      "\n"
     ]
    }
   ],
   "source": [
    "for move in head_moves:\n",
    "    knots = move_rope(knots, move)\n",
    "    print(move)\n",
    "    for knot in knots:\n",
    "        print('\\t',knot)\n",
    "    print('\\n')"
   ]
  },
  {
   "cell_type": "code",
   "execution_count": 68,
   "id": "later-payday",
   "metadata": {},
   "outputs": [
    {
     "data": {
      "text/plain": [
       "{Point(row=0, col=0), Point(row=1, col=1), Point(row=2, col=2)}"
      ]
     },
     "execution_count": 68,
     "metadata": {},
     "output_type": "execute_result"
    }
   ],
   "source": [
    "locs_visited"
   ]
  },
  {
   "cell_type": "code",
   "execution_count": 50,
   "id": "forced-vietnam",
   "metadata": {},
   "outputs": [
    {
     "data": {
      "text/plain": [
       "{Point(row=0, col=0), Point(row=1, col=1), Point(row=2, col=2)}"
      ]
     },
     "execution_count": 50,
     "metadata": {},
     "output_type": "execute_result"
    }
   ],
   "source": [
    "locs_visited"
   ]
  },
  {
   "cell_type": "code",
   "execution_count": null,
   "id": "italic-czech",
   "metadata": {},
   "outputs": [],
   "source": []
  },
  {
   "cell_type": "code",
   "execution_count": null,
   "id": "czech-reach",
   "metadata": {},
   "outputs": [],
   "source": []
  },
  {
   "cell_type": "code",
   "execution_count": null,
   "id": "homeless-ladder",
   "metadata": {},
   "outputs": [],
   "source": []
  },
  {
   "cell_type": "code",
   "execution_count": null,
   "id": "nutritional-printer",
   "metadata": {},
   "outputs": [],
   "source": [
    "head_moves = get_moves(get_lines('input'))\n",
    "head, tail = initialize_point_state()\n",
    "locs_visited = initialize_tail_locations()"
   ]
  },
  {
   "cell_type": "code",
   "execution_count": null,
   "id": "enabling-orbit",
   "metadata": {},
   "outputs": [],
   "source": [
    "for move in head_moves:\n",
    "    direction, steps = move\n",
    "#     print(direction,steps)\n",
    "    for step in range(steps):\n",
    "        head = make_head_step(head,direction)\n",
    "#         print('\\thead:',head)\n",
    "        tail = make_tail_step(head,tail)\n",
    "#         print('\\ttail', tail)\n",
    "print(len(locs_visited))"
   ]
  },
  {
   "cell_type": "code",
   "execution_count": null,
   "id": "sharp-wyoming",
   "metadata": {},
   "outputs": [],
   "source": []
  }
 ],
 "metadata": {
  "kernelspec": {
   "display_name": "Python 3",
   "language": "python",
   "name": "python3"
  },
  "language_info": {
   "codemirror_mode": {
    "name": "ipython",
    "version": 3
   },
   "file_extension": ".py",
   "mimetype": "text/x-python",
   "name": "python",
   "nbconvert_exporter": "python",
   "pygments_lexer": "ipython3",
   "version": "3.8.5"
  }
 },
 "nbformat": 4,
 "nbformat_minor": 5
}
