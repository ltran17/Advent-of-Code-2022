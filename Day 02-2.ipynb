{
 "cells": [
  {
   "cell_type": "markdown",
   "id": "422e14dd-37f5-479e-9fbd-a5f2ea670202",
   "metadata": {},
   "source": [
    "--- Part Two ---\n",
    "\n",
    "The Elf finishes helping with the tent and sneaks back over to you. \"Anyway, the second column says how the round needs to end: X means you need to lose, Y means you need to end the round in a draw, and Z means you need to win. Good luck!\"\n",
    "\n",
    "The total score is still calculated in the same way, but now you need to figure out what shape to choose so the round ends as indicated. The example above now goes like this:\n",
    "\n",
    "In the first round, your opponent will choose Rock (A), and you need the round to end in a draw (Y), so you also choose Rock. This gives you a score of 1 + 3 = 4.\n",
    "\n",
    "In the second round, your opponent will choose Paper (B), and you choose Rock so you lose (X) with a score of 1 + 0 = 1.\n",
    "\n",
    "In the third round, you will defeat your opponent's Scissors with Rock for a score of 1 + 6 = 7.\n",
    "\n",
    "Now that you're correctly decrypting the ultra top secret strategy guide, you would get a total score of 12.\n",
    "\n",
    "Following the Elf's instructions for the second column, what would your total score be if everything goes exactly according to your strategy guide?"
   ]
  },
  {
   "cell_type": "code",
   "execution_count": 1,
   "id": "1aa21f58-7a5a-47aa-a425-d428cc338027",
   "metadata": {},
   "outputs": [],
   "source": [
    "def get_lines(file_type='sample'):\n",
    "    '''\n",
    "    Read in the lines of today's sample/input file line by line. \n",
    "    Assumes the file is in folder called 'inputs/'\n",
    "    \n",
    "    Parameters\n",
    "    ----------\n",
    "    file_type : str\n",
    "        Either sample or input\n",
    "    \n",
    "    Returns\n",
    "    -------\n",
    "    list of inputs stripped of whitespace\n",
    "    '''\n",
    "    import datetime\n",
    "    day = str(datetime.datetime.today().day).zfill(2)\n",
    "    filename = f'inputs/{day}-{file_type}.txt'\n",
    "    try:\n",
    "        with open(filename,'r') as file:\n",
    "            lines = [line.strip() for line in file.readlines()]\n",
    "        return lines\n",
    "    except:\n",
    "        print(filename+' does not exist')"
   ]
  },
  {
   "cell_type": "code",
   "execution_count": 2,
   "id": "253e8f05-f414-4f03-96b7-7d2d140a96f0",
   "metadata": {},
   "outputs": [
    {
     "data": {
      "text/plain": [
       "['A Y', 'B X', 'C Z']"
      ]
     },
     "execution_count": 2,
     "metadata": {},
     "output_type": "execute_result"
    }
   ],
   "source": [
    "rounds = get_lines('sample')\n",
    "rounds"
   ]
  },
  {
   "cell_type": "code",
   "execution_count": 3,
   "id": "4cc2a448-bc8c-42d2-9548-54bbf4c04e92",
   "metadata": {},
   "outputs": [],
   "source": [
    "choices = {'A':'rock', 'B':'paper', 'C':'scissors'}\n",
    "strategies = {'X':'lose', 'Y':'draw', 'Z':'win'}"
   ]
  },
  {
   "cell_type": "code",
   "execution_count": 4,
   "id": "e384af41-58ff-4542-a014-42a86b70593b",
   "metadata": {},
   "outputs": [],
   "source": [
    "def get_info(play):\n",
    "    '''\n",
    "    Given the input, return the opponent's play and the player's strategy.\n",
    "    Parameters\n",
    "    ----------\n",
    "    play : str\n",
    "    \n",
    "    Returns\n",
    "    -------\n",
    "    opponent : str\n",
    "    strategy : str\n",
    "    '''\n",
    "    opponent = choices[play.split()[0]]\n",
    "    strategy = strategies[play.split()[1]]\n",
    "    return opponent, strategy"
   ]
  },
  {
   "cell_type": "code",
   "execution_count": 5,
   "id": "35d732f4-f104-458a-8a1a-ba48649388b0",
   "metadata": {},
   "outputs": [
    {
     "data": {
      "text/plain": [
       "('rock', 'draw')"
      ]
     },
     "execution_count": 5,
     "metadata": {},
     "output_type": "execute_result"
    }
   ],
   "source": [
    "get_info('A Y')"
   ]
  },
  {
   "cell_type": "code",
   "execution_count": 6,
   "id": "efae045e-e33d-4084-847d-e81d742e593c",
   "metadata": {},
   "outputs": [],
   "source": [
    "def get_result(strategy):\n",
    "    '''\n",
    "    Given the strategy, return the value of the result.\n",
    "    \n",
    "    Parameters\n",
    "    ----------\n",
    "    strategy : str\n",
    "    \n",
    "    Returns\n",
    "    -------\n",
    "    result : int\n",
    "    '''\n",
    "    if strategy == 'win':\n",
    "        return 6\n",
    "    if strategy == 'lose':\n",
    "        return 0\n",
    "    else: # strategy == 'draw':\n",
    "        return 3"
   ]
  },
  {
   "cell_type": "code",
   "execution_count": 7,
   "id": "c95fd9b7-fdad-4272-804b-43b5c3ba100a",
   "metadata": {},
   "outputs": [
    {
     "data": {
      "text/plain": [
       "3"
      ]
     },
     "execution_count": 7,
     "metadata": {},
     "output_type": "execute_result"
    }
   ],
   "source": [
    "get_result('draw')"
   ]
  },
  {
   "cell_type": "code",
   "execution_count": 8,
   "id": "d8708b47-3f34-49b1-8422-2f4c55f83f68",
   "metadata": {},
   "outputs": [
    {
     "data": {
      "text/plain": [
       "1"
      ]
     },
     "execution_count": 8,
     "metadata": {},
     "output_type": "execute_result"
    }
   ],
   "source": [
    "def get_value_for_play(shape):\n",
    "    '''\n",
    "    Given the shape, return the value for scoring.\n",
    "    \n",
    "    Parameters\n",
    "    ----------\n",
    "    shape : str\n",
    "    \n",
    "    Returns\n",
    "    -------\n",
    "    value : int\n",
    "    '''\n",
    "    if shape == 'rock':\n",
    "        return 1\n",
    "    if shape == 'paper':\n",
    "        return 2\n",
    "    else: # shape == 'scissors'\n",
    "        return 3\n",
    "\n",
    "get_value_for_play('rock')"
   ]
  },
  {
   "cell_type": "code",
   "execution_count": 9,
   "id": "232b8797-de87-4a43-878b-1834871362bd",
   "metadata": {},
   "outputs": [],
   "source": [
    "def get_play(opponent, strategy):\n",
    "    '''\n",
    "    Given the opponent's play and the strategy, return the player's play.\n",
    "    \n",
    "    Parameters\n",
    "    ----------\n",
    "    opponent : str\n",
    "    strategy : str\n",
    "    \n",
    "    Returns\n",
    "    -------\n",
    "    play : str\n",
    "    '''\n",
    "    if opponent == 'rock':\n",
    "        if strategy == 'win':\n",
    "            return 'paper'\n",
    "        elif strategy == 'lose':\n",
    "            return 'scissors'\n",
    "    elif opponent == 'paper':\n",
    "        if strategy == 'win':\n",
    "            return 'scissors'\n",
    "        elif strategy == 'lose':\n",
    "            return 'rock'\n",
    "    elif opponent == 'scissors':\n",
    "        if strategy == 'win':\n",
    "            return 'rock'\n",
    "        elif strategy == 'lose':\n",
    "            return 'paper'\n",
    "    play = opponent # because the other option is a draw\n",
    "    return play"
   ]
  },
  {
   "cell_type": "code",
   "execution_count": 10,
   "id": "e101432b-5221-4754-9459-8bf202e5babd",
   "metadata": {},
   "outputs": [
    {
     "data": {
      "text/plain": [
       "'paper'"
      ]
     },
     "execution_count": 10,
     "metadata": {},
     "output_type": "execute_result"
    }
   ],
   "source": [
    "get_play('rock', 'win')"
   ]
  },
  {
   "cell_type": "code",
   "execution_count": 11,
   "id": "c98a1806-7320-4298-8ebc-b9dd4be5406c",
   "metadata": {},
   "outputs": [
    {
     "data": {
      "text/plain": [
       "7"
      ]
     },
     "execution_count": 11,
     "metadata": {},
     "output_type": "execute_result"
    }
   ],
   "source": [
    "def score_round(play):\n",
    "    opponent, strategy = get_info(play)\n",
    "    player = get_play(opponent, strategy)\n",
    "    value = get_value_for_play(player)\n",
    "    result = get_result(strategy)\n",
    "    # print(f'opponent chooses {opponent}.\\nstrategy is to {strategy}.\\nplayer chooses {player}.')\n",
    "    return value + result\n",
    "\n",
    "score_round('C Z')"
   ]
  },
  {
   "cell_type": "code",
   "execution_count": 12,
   "id": "71794c54-0fc6-4e38-b103-dc84caed4a2d",
   "metadata": {},
   "outputs": [],
   "source": [
    "def get_total_score(rounds):\n",
    "    total = 0\n",
    "    for r in rounds:\n",
    "        total += score_round(r)\n",
    "    return total"
   ]
  },
  {
   "cell_type": "code",
   "execution_count": 13,
   "id": "0e242db8-7c21-4e26-a31b-0f2d09c4aa01",
   "metadata": {},
   "outputs": [
    {
     "data": {
      "text/plain": [
       "12"
      ]
     },
     "execution_count": 13,
     "metadata": {},
     "output_type": "execute_result"
    }
   ],
   "source": [
    "get_total_score(rounds)"
   ]
  },
  {
   "cell_type": "code",
   "execution_count": 14,
   "id": "bf0c70fe-eacb-49fa-85f4-31d20e3be73e",
   "metadata": {},
   "outputs": [],
   "source": [
    "rounds = get_lines('input')"
   ]
  },
  {
   "cell_type": "code",
   "execution_count": 15,
   "id": "88f85299-e768-41dc-81e7-48e51c92d08f",
   "metadata": {},
   "outputs": [
    {
     "data": {
      "text/plain": [
       "2500"
      ]
     },
     "execution_count": 15,
     "metadata": {},
     "output_type": "execute_result"
    }
   ],
   "source": [
    "len(rounds)"
   ]
  },
  {
   "cell_type": "code",
   "execution_count": 16,
   "id": "6a661bb1-5b3a-4d4c-a150-792cef58ef1c",
   "metadata": {},
   "outputs": [
    {
     "data": {
      "text/plain": [
       "11756"
      ]
     },
     "execution_count": 16,
     "metadata": {},
     "output_type": "execute_result"
    }
   ],
   "source": [
    "get_total_score(rounds)"
   ]
  },
  {
   "cell_type": "code",
   "execution_count": null,
   "id": "b6363378-6955-4ce8-9a26-99a42c4de0d9",
   "metadata": {},
   "outputs": [],
   "source": []
  }
 ],
 "metadata": {
  "kernelspec": {
   "display_name": "Python 3 (ipykernel)",
   "language": "python",
   "name": "python3"
  },
  "language_info": {
   "codemirror_mode": {
    "name": "ipython",
    "version": 3
   },
   "file_extension": ".py",
   "mimetype": "text/x-python",
   "name": "python",
   "nbconvert_exporter": "python",
   "pygments_lexer": "ipython3",
   "version": "3.8.13"
  }
 },
 "nbformat": 4,
 "nbformat_minor": 5
}
