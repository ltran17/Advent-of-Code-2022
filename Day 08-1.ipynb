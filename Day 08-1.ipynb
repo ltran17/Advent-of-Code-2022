{
 "cells": [
  {
   "cell_type": "code",
   "execution_count": 1,
   "id": "skilled-cliff",
   "metadata": {},
   "outputs": [],
   "source": [
    "import pandas as pd"
   ]
  },
  {
   "cell_type": "code",
   "execution_count": 2,
   "id": "vietnamese-compound",
   "metadata": {},
   "outputs": [],
   "source": [
    "def get_lines(file_type='sample'):\n",
    "    '''\n",
    "    Read in the lines of today's sample/input file line by line. \n",
    "    Assumes the file is in folder called 'inputs/'\n",
    "    \n",
    "    Parameters\n",
    "    ----------\n",
    "    file_type : str\n",
    "        Either sample or input\n",
    "    \n",
    "    Returns\n",
    "    -------\n",
    "    list of inputs stripped of whitespace\n",
    "    '''\n",
    "    import datetime\n",
    "    day = str(datetime.datetime.today().day).zfill(2)\n",
    "    filename = f'inputs/{day}-{file_type}.txt'\n",
    "    try:\n",
    "        with open(filename,'r') as file:\n",
    "            lines = [line.strip() for line in file.readlines()]\n",
    "        return lines\n",
    "    except:\n",
    "        print(filename+' does not exist')"
   ]
  },
  {
   "cell_type": "code",
   "execution_count": 3,
   "id": "official-aluminum",
   "metadata": {},
   "outputs": [],
   "source": [
    "sample = get_lines()"
   ]
  },
  {
   "cell_type": "code",
   "execution_count": 10,
   "id": "satisfied-lover",
   "metadata": {},
   "outputs": [
    {
     "data": {
      "text/plain": [
       "[[3, 0, 3, 7, 3],\n",
       " [2, 5, 5, 1, 2],\n",
       " [6, 5, 3, 3, 2],\n",
       " [3, 3, 5, 4, 9],\n",
       " [3, 5, 3, 9, 0]]"
      ]
     },
     "execution_count": 10,
     "metadata": {},
     "output_type": "execute_result"
    }
   ],
   "source": [
    "values = [[int(c) for c in list(s)] for s in sample]\n",
    "values"
   ]
  },
  {
   "cell_type": "code",
   "execution_count": 12,
   "id": "durable-involvement",
   "metadata": {},
   "outputs": [],
   "source": [
    "forest = pd.DataFrame(values)"
   ]
  },
  {
   "cell_type": "code",
   "execution_count": 14,
   "id": "ongoing-flash",
   "metadata": {},
   "outputs": [
    {
     "data": {
      "text/plain": [
       "(5, 5)"
      ]
     },
     "execution_count": 14,
     "metadata": {},
     "output_type": "execute_result"
    }
   ],
   "source": [
    "rows, cols = forest.shape\n",
    "rows, cols"
   ]
  },
  {
   "cell_type": "code",
   "execution_count": 13,
   "id": "regulated-printer",
   "metadata": {},
   "outputs": [],
   "source": [
    "def is_edge(i,j):\n",
    "    if (i==0) | (j==0) | (i==rows) | (j==cols):\n",
    "        return 1\n",
    "    else:\n",
    "        return 0"
   ]
  },
  {
   "cell_type": "code",
   "execution_count": 37,
   "id": "ambient-danger",
   "metadata": {},
   "outputs": [],
   "source": [
    "def is_tallest_from_north(i,j):\n",
    "    for row in range(i):\n",
    "        if forest.iloc[row,j] >= forest.iloc[i,j]:\n",
    "            return 0\n",
    "    return 1"
   ]
  },
  {
   "cell_type": "code",
   "execution_count": 38,
   "id": "quiet-actor",
   "metadata": {},
   "outputs": [],
   "source": [
    "def is_tallest_from_south(i,j):\n",
    "    for row in range(i+1,rows):\n",
    "        if forest.iloc[row,j] >= forest.iloc[i,j]:\n",
    "            return 0\n",
    "    return 1"
   ]
  },
  {
   "cell_type": "code",
   "execution_count": 39,
   "id": "outside-superintendent",
   "metadata": {},
   "outputs": [],
   "source": [
    "def is_tallest_from_west(i,j):\n",
    "    for col in range(j):\n",
    "        if forest.iloc[i,col] >= forest.iloc[i,j]:\n",
    "            return 0\n",
    "    return 1"
   ]
  },
  {
   "cell_type": "code",
   "execution_count": 40,
   "id": "happy-today",
   "metadata": {},
   "outputs": [],
   "source": [
    "def is_tallest_from_east(i,j):\n",
    "    for col in range(j+1,cols):\n",
    "        if forest.iloc[i,col] >= forest.iloc[i,j]:\n",
    "            return 0\n",
    "    return 1"
   ]
  },
  {
   "cell_type": "code",
   "execution_count": 51,
   "id": "aggressive-obligation",
   "metadata": {},
   "outputs": [],
   "source": [
    "def is_tallest(i,j):\n",
    "    total = 0\n",
    "    check_directions = [is_tallest_from_east, is_tallest_from_north, is_tallest_from_west, is_tallest_from_south]\n",
    "    for check in check_directions:\n",
    "        total += check(i,j)\n",
    "    if total > 0:\n",
    "        return True\n",
    "    return False\n",
    "    "
   ]
  },
  {
   "cell_type": "code",
   "execution_count": 55,
   "id": "unexpected-brazilian",
   "metadata": {},
   "outputs": [],
   "source": [
    "def is_visible(i,j):\n",
    "    if is_edge(i,j):\n",
    "        return True\n",
    "    elif is_tallest(i,j):\n",
    "        return True\n",
    "    return False"
   ]
  },
  {
   "cell_type": "code",
   "execution_count": 56,
   "id": "nervous-spirituality",
   "metadata": {},
   "outputs": [
    {
     "data": {
      "text/plain": [
       "True"
      ]
     },
     "execution_count": 56,
     "metadata": {},
     "output_type": "execute_result"
    }
   ],
   "source": [
    "is_visible(0,3)"
   ]
  },
  {
   "cell_type": "code",
   "execution_count": 57,
   "id": "imperial-break",
   "metadata": {},
   "outputs": [
    {
     "data": {
      "text/plain": [
       "False"
      ]
     },
     "execution_count": 57,
     "metadata": {},
     "output_type": "execute_result"
    }
   ],
   "source": [
    "is_visible(3,3)"
   ]
  },
  {
   "cell_type": "code",
   "execution_count": 69,
   "id": "spread-advertising",
   "metadata": {},
   "outputs": [],
   "source": [
    "def get_total_visible(forest):\n",
    "    total = 0\n",
    "    for i in range(rows):\n",
    "        for j in range(cols):\n",
    "            visible = is_visible(i,j)\n",
    "            total += visible\n",
    "    return total"
   ]
  },
  {
   "cell_type": "code",
   "execution_count": 70,
   "id": "confident-cache",
   "metadata": {},
   "outputs": [
    {
     "data": {
      "text/plain": [
       "21"
      ]
     },
     "execution_count": 70,
     "metadata": {},
     "output_type": "execute_result"
    }
   ],
   "source": [
    "get_total_visible(forest)"
   ]
  },
  {
   "cell_type": "code",
   "execution_count": 71,
   "id": "convinced-carpet",
   "metadata": {},
   "outputs": [],
   "source": [
    "values = [[int(c) for c in list(s)] for s in get_lines('input')]"
   ]
  },
  {
   "cell_type": "code",
   "execution_count": 73,
   "id": "casual-township",
   "metadata": {},
   "outputs": [
    {
     "data": {
      "text/plain": [
       "(99, 99)"
      ]
     },
     "execution_count": 73,
     "metadata": {},
     "output_type": "execute_result"
    }
   ],
   "source": [
    "forest = pd.DataFrame(values)\n",
    "rows, cols = forest.shape"
   ]
  },
  {
   "cell_type": "code",
   "execution_count": 76,
   "id": "radical-wisdom",
   "metadata": {},
   "outputs": [
    {
     "data": {
      "text/plain": [
       "1854"
      ]
     },
     "execution_count": 76,
     "metadata": {},
     "output_type": "execute_result"
    }
   ],
   "source": [
    "get_total_visible(forest)"
   ]
  },
  {
   "cell_type": "code",
   "execution_count": null,
   "id": "surprised-strain",
   "metadata": {},
   "outputs": [],
   "source": []
  }
 ],
 "metadata": {
  "kernelspec": {
   "display_name": "Python 3",
   "language": "python",
   "name": "python3"
  },
  "language_info": {
   "codemirror_mode": {
    "name": "ipython",
    "version": 3
   },
   "file_extension": ".py",
   "mimetype": "text/x-python",
   "name": "python",
   "nbconvert_exporter": "python",
   "pygments_lexer": "ipython3",
   "version": "3.8.5"
  }
 },
 "nbformat": 4,
 "nbformat_minor": 5
}
