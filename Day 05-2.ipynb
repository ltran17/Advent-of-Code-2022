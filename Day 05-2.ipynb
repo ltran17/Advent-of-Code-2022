{
 "cells": [
  {
   "cell_type": "markdown",
   "id": "pregnant-integer",
   "metadata": {},
   "source": [
    "See problem description for [day 5 part 2](https://adventofcode.com/2022/day/5#part2)"
   ]
  },
  {
   "cell_type": "code",
   "execution_count": 1,
   "id": "disturbed-lobby",
   "metadata": {},
   "outputs": [],
   "source": [
    "# STRIPPING WHITESPACE ON THE LEFT is NOT USEFUL in this problem.\n",
    "def get_lines(file_type='sample'):\n",
    "    '''\n",
    "    Read in the lines of today's sample/input file line by line. \n",
    "    Assumes the file is in folder called 'inputs/'\n",
    "    \n",
    "    Parameters\n",
    "    ----------\n",
    "    file_type : str\n",
    "        Either sample or input\n",
    "    \n",
    "    Returns\n",
    "    -------\n",
    "    list of inputs stripped of whitespace\n",
    "    '''\n",
    "    import datetime\n",
    "    day = str(datetime.datetime.today().day).zfill(2)\n",
    "    filename = f'inputs/{day}-{file_type}.txt'\n",
    "    try:\n",
    "        with open(filename,'r') as file:\n",
    "            lines = [line.rstrip() for line in file.readlines()]\n",
    "        return lines\n",
    "    except:\n",
    "        print(filename+' does not exist')"
   ]
  },
  {
   "cell_type": "code",
   "execution_count": 3,
   "id": "excess-arbitration",
   "metadata": {},
   "outputs": [],
   "source": [
    "sample_config = get_lines()"
   ]
  },
  {
   "cell_type": "code",
   "execution_count": 4,
   "id": "indian-activation",
   "metadata": {},
   "outputs": [
    {
     "data": {
      "text/plain": [
       "['    [D]',\n",
       " '[N] [C]',\n",
       " '[Z] [M] [P]',\n",
       " ' 1   2   3',\n",
       " '',\n",
       " 'move 1 from 2 to 1',\n",
       " 'move 3 from 1 to 3',\n",
       " 'move 2 from 2 to 1',\n",
       " 'move 1 from 1 to 2']"
      ]
     },
     "execution_count": 4,
     "metadata": {},
     "output_type": "execute_result"
    }
   ],
   "source": [
    "sample_config"
   ]
  },
  {
   "cell_type": "code",
   "execution_count": 5,
   "id": "smart-nebraska",
   "metadata": {},
   "outputs": [],
   "source": [
    "input_config = get_lines('input')"
   ]
  },
  {
   "cell_type": "code",
   "execution_count": 7,
   "id": "aware-cocktail",
   "metadata": {},
   "outputs": [],
   "source": [
    "def get_number_of_stacks(config):\n",
    "    for i, line in enumerate(config):\n",
    "        for ch in line:\n",
    "            if ch.isdigit():\n",
    "                return (i, int(line[-1]))\n",
    "    return -1"
   ]
  },
  {
   "cell_type": "code",
   "execution_count": 9,
   "id": "modified-yugoslavia",
   "metadata": {},
   "outputs": [
    {
     "data": {
      "text/plain": [
       "(3, 3)"
      ]
     },
     "execution_count": 9,
     "metadata": {},
     "output_type": "execute_result"
    }
   ],
   "source": [
    "s_labels, s_stacks = get_number_of_stacks(sample_config)\n",
    "s_labels, s_stacks"
   ]
  },
  {
   "cell_type": "code",
   "execution_count": 10,
   "id": "corresponding-performance",
   "metadata": {},
   "outputs": [
    {
     "data": {
      "text/plain": [
       "(8, 9)"
      ]
     },
     "execution_count": 10,
     "metadata": {},
     "output_type": "execute_result"
    }
   ],
   "source": [
    "i_labels, i_stacks = get_number_of_stacks(input_config)\n",
    "i_labels, i_stacks"
   ]
  },
  {
   "cell_type": "code",
   "execution_count": 15,
   "id": "hispanic-marketplace",
   "metadata": {},
   "outputs": [],
   "source": [
    "def get_value(line, stack):\n",
    "    try:\n",
    "        ch = line[1+(stack-1)*4]\n",
    "        if ch.isalpha():\n",
    "#             print(ch)\n",
    "            return ch\n",
    "        else:\n",
    "#             print('no value: before last valid')\n",
    "            return None\n",
    "    except:\n",
    "#         print('no value: after last valid')\n",
    "        return None"
   ]
  },
  {
   "cell_type": "code",
   "execution_count": 16,
   "id": "republican-installation",
   "metadata": {},
   "outputs": [],
   "source": [
    "from queue import LifoQueue"
   ]
  },
  {
   "cell_type": "code",
   "execution_count": 17,
   "id": "temporal-phoenix",
   "metadata": {},
   "outputs": [],
   "source": [
    "def initialize_state(config):\n",
    "    labels, num_stacks = get_number_of_stacks(config)\n",
    "    stacks = {i: LifoQueue() for i in range(1,num_stacks+1)}\n",
    "    for i in range(labels-1,-1,-1):\n",
    "        for stack in range(1, num_stacks+1):\n",
    "            crate = get_value(config[i], stack)\n",
    "#             print(crate)\n",
    "            if crate is not None:\n",
    "                stacks[stack].put(crate)\n",
    "#         print('\\n')\n",
    "    return stacks"
   ]
  },
  {
   "cell_type": "markdown",
   "id": "fundamental-conjunction",
   "metadata": {},
   "source": [
    "### Initialize the state of the stacks"
   ]
  },
  {
   "cell_type": "code",
   "execution_count": 18,
   "id": "terminal-stereo",
   "metadata": {},
   "outputs": [],
   "source": [
    "s_stacks = initialize_state(sample_config)"
   ]
  },
  {
   "cell_type": "code",
   "execution_count": 19,
   "id": "brazilian-debut",
   "metadata": {},
   "outputs": [],
   "source": [
    "i_stacks = initialize_state(input_config)"
   ]
  },
  {
   "cell_type": "markdown",
   "id": "genuine-agent",
   "metadata": {},
   "source": [
    "### Get the moves\n",
    "These start 2 below the labels."
   ]
  },
  {
   "cell_type": "code",
   "execution_count": 21,
   "id": "isolated-aging",
   "metadata": {},
   "outputs": [],
   "source": [
    "s_moves = sample_config[s_labels+2:]\n",
    "i_moves = input_config[i_labels+2:]"
   ]
  },
  {
   "cell_type": "code",
   "execution_count": 24,
   "id": "wrapped-liquid",
   "metadata": {},
   "outputs": [],
   "source": [
    "def extract_moves(move):\n",
    "    extract = move.split(' ')\n",
    "    num_to_move = int(extract[1])\n",
    "    from_stack = int(extract[3])\n",
    "    to_stack = int(extract[5])\n",
    "    return (num_to_move, from_stack, to_stack)"
   ]
  },
  {
   "cell_type": "code",
   "execution_count": 26,
   "id": "hybrid-account",
   "metadata": {},
   "outputs": [
    {
     "data": {
      "text/plain": [
       "['move 1 from 2 to 1',\n",
       " 'move 3 from 1 to 3',\n",
       " 'move 2 from 2 to 1',\n",
       " 'move 1 from 1 to 2']"
      ]
     },
     "execution_count": 26,
     "metadata": {},
     "output_type": "execute_result"
    }
   ],
   "source": [
    "s_moves"
   ]
  },
  {
   "cell_type": "code",
   "execution_count": 25,
   "id": "divine-captain",
   "metadata": {},
   "outputs": [
    {
     "name": "stdout",
     "output_type": "stream",
     "text": [
      "(1, 2, 1)\n",
      "(3, 1, 3)\n",
      "(2, 2, 1)\n",
      "(1, 1, 2)\n"
     ]
    }
   ],
   "source": [
    "for move in s_moves:\n",
    "    print(extract_moves(move))"
   ]
  },
  {
   "cell_type": "markdown",
   "id": "visible-clear",
   "metadata": {},
   "source": [
    "### Helpful functions to check work:\n",
    "Check the stack size and identify the top crate on each stack"
   ]
  },
  {
   "cell_type": "code",
   "execution_count": 27,
   "id": "useful-azerbaijan",
   "metadata": {},
   "outputs": [],
   "source": [
    "def check_stack_sizes(stacks):\n",
    "    for stack in stacks:\n",
    "        print(stack, stacks[stack].qsize())"
   ]
  },
  {
   "cell_type": "code",
   "execution_count": 34,
   "id": "precise-romance",
   "metadata": {},
   "outputs": [],
   "source": [
    "def get_top_crates(stacks):\n",
    "    '''\n",
    "    Leave the state of the stacks alone! \n",
    "    '''\n",
    "    answer = ''\n",
    "    for stack in stacks:\n",
    "        ch = stacks[stack].get()\n",
    "        answer += ch\n",
    "        stacks[stack].put(ch)\n",
    "    return answer"
   ]
  },
  {
   "cell_type": "markdown",
   "id": "functioning-removal",
   "metadata": {},
   "source": [
    "### Define how to move a substack, then make the moves!"
   ]
  },
  {
   "cell_type": "code",
   "execution_count": 28,
   "id": "attended-marketing",
   "metadata": {},
   "outputs": [],
   "source": [
    "def move_substack(stacks, move):\n",
    "    num_to_move, from_stack, to_stack = extract_moves(move)\n",
    "    temp_stack = LifoQueue()\n",
    "    for n in range(num_to_move):\n",
    "        crate = stacks[from_stack].get()\n",
    "        temp_stack.put(crate)\n",
    "    for n in range(num_to_move):\n",
    "        crate = temp_stack.get()\n",
    "        stacks[to_stack].put(crate)\n",
    "    return stacks"
   ]
  },
  {
   "cell_type": "code",
   "execution_count": 31,
   "id": "domestic-outline",
   "metadata": {},
   "outputs": [],
   "source": [
    "def make_moves(stacks, moves):\n",
    "    for move in moves:\n",
    "        stacks = move_substack(stacks, move)\n",
    "    return stacks"
   ]
  },
  {
   "cell_type": "code",
   "execution_count": 32,
   "id": "configured-smart",
   "metadata": {},
   "outputs": [
    {
     "name": "stdout",
     "output_type": "stream",
     "text": [
      "1 1\n",
      "2 1\n",
      "3 4\n"
     ]
    }
   ],
   "source": [
    "s_stacks = make_moves(s_stacks, s_moves)\n",
    "check_stack_sizes(s_stacks)"
   ]
  },
  {
   "cell_type": "code",
   "execution_count": 33,
   "id": "burning-wright",
   "metadata": {},
   "outputs": [
    {
     "name": "stdout",
     "output_type": "stream",
     "text": [
      "1 8\n",
      "2 5\n",
      "3 9\n",
      "4 5\n",
      "5 15\n",
      "6 5\n",
      "7 1\n",
      "8 3\n",
      "9 5\n"
     ]
    }
   ],
   "source": [
    "i_stacks = make_moves(i_stacks, i_moves)\n",
    "check_stack_sizes(i_stacks)"
   ]
  },
  {
   "cell_type": "markdown",
   "id": "sound-shakespeare",
   "metadata": {},
   "source": [
    "### Get the answer...\n",
    "Fingers crossed 🤞"
   ]
  },
  {
   "cell_type": "code",
   "execution_count": 35,
   "id": "favorite-millennium",
   "metadata": {},
   "outputs": [
    {
     "data": {
      "text/plain": [
       "'MCD'"
      ]
     },
     "execution_count": 35,
     "metadata": {},
     "output_type": "execute_result"
    }
   ],
   "source": [
    "get_top_crates(s_stacks)"
   ]
  },
  {
   "cell_type": "code",
   "execution_count": 36,
   "id": "personalized-bride",
   "metadata": {},
   "outputs": [
    {
     "data": {
      "text/plain": [
       "'DCVTCVPCL'"
      ]
     },
     "execution_count": 36,
     "metadata": {},
     "output_type": "execute_result"
    }
   ],
   "source": [
    "get_top_crates(i_stacks)"
   ]
  },
  {
   "cell_type": "markdown",
   "id": "informed-place",
   "metadata": {},
   "source": [
    "### My skills are improving.\n",
    "I've gotten all 10 stars on the first submission (so far)."
   ]
  },
  {
   "cell_type": "code",
   "execution_count": null,
   "id": "cleared-portuguese",
   "metadata": {},
   "outputs": [],
   "source": []
  }
 ],
 "metadata": {
  "kernelspec": {
   "display_name": "Python 3",
   "language": "python",
   "name": "python3"
  },
  "language_info": {
   "codemirror_mode": {
    "name": "ipython",
    "version": 3
   },
   "file_extension": ".py",
   "mimetype": "text/x-python",
   "name": "python",
   "nbconvert_exporter": "python",
   "pygments_lexer": "ipython3",
   "version": "3.8.5"
  }
 },
 "nbformat": 4,
 "nbformat_minor": 5
}
