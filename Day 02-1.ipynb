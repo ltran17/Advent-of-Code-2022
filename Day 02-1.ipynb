{
 "cells": [
  {
   "cell_type": "markdown",
   "id": "dcbb29bc-4ed8-4368-8d58-134c7da2b685",
   "metadata": {},
   "source": [
    "--- Day 2: Rock Paper Scissors ---\n",
    "\n",
    "The Elves begin to set up camp on the beach. To decide whose tent gets to be closest to the snack storage, a giant Rock Paper Scissors tournament is already in progress.\n",
    "\n",
    "Rock Paper Scissors is a game between two players. Each game contains many rounds; in each round, the players each simultaneously choose one of Rock, Paper, or Scissors using a hand shape. Then, a winner for that round is selected: Rock defeats Scissors, Scissors defeats Paper, and Paper defeats Rock. If both players choose the same shape, the round instead ends in a draw.\n",
    "\n",
    "Appreciative of your help yesterday, one Elf gives you an encrypted strategy guide (your puzzle input) that they say will be sure to help you win. \"The first column is what your opponent is going to play: A for Rock, B for Paper, and C for Scissors. The second column--\" Suddenly, the Elf is called away to help with someone's tent.\n",
    "\n",
    "The second column, you reason, must be what you should play in response: X for Rock, Y for Paper, and Z for Scissors. Winning every time would be suspicious, so the responses must have been carefully chosen.\n",
    "\n",
    "The winner of the whole tournament is the player with the highest score. Your total score is the sum of your scores for each round. The score for a single round is the score for the shape you selected (1 for Rock, 2 for Paper, and 3 for Scissors) plus the score for the outcome of the round (0 if you lost, 3 if the round was a draw, and 6 if you won).\n",
    "\n",
    "Since you can't be sure if the Elf is trying to help you or trick you, you should calculate the score you would get if you were to follow the strategy guide.\n",
    "\n",
    "For example, suppose you were given the following strategy guide:\n",
    "\n",
    "A Y\n",
    "\n",
    "B X\n",
    "\n",
    "C Z\n",
    "\n",
    "This strategy guide predicts and recommends the following:\n",
    "\n",
    "In the first round, your opponent will choose Rock (A), and you should choose Paper (Y). This ends in a win for you with a score of 8 (2 because you chose Paper + 6 because you won).\n",
    "\n",
    "In the second round, your opponent will choose Paper (B), and you should choose Rock (X). This ends in a loss for you with a score of 1 (1 + 0).\n",
    "\n",
    "The third round is a draw with both players choosing Scissors, giving you a score of 3 + 3 = 6.\n",
    "\n",
    "In this example, if you were to follow the strategy guide, you would get a total score of 15 (8 + 1 + 6).\n",
    "\n",
    "What would your total score be if everything goes exactly according to your strategy guide?"
   ]
  },
  {
   "cell_type": "code",
   "execution_count": 1,
   "id": "143a23b9-5d56-433f-9182-b679a46d7bb8",
   "metadata": {},
   "outputs": [],
   "source": [
    "def get_lines(file_type='sample'):\n",
    "    '''\n",
    "    Read in the lines of today's sample/input file line by line. \n",
    "    Assumes the file is in folder called 'inputs/'\n",
    "    \n",
    "    Parameters\n",
    "    ----------\n",
    "    file_type : str\n",
    "        Either sample or input\n",
    "    \n",
    "    Returns\n",
    "    -------\n",
    "    list of inputs stripped of whitespace\n",
    "    '''\n",
    "    import datetime\n",
    "    day = str(datetime.datetime.today().day).zfill(2)\n",
    "    filename = f'inputs/{day}-{file_type}.txt'\n",
    "    try:\n",
    "        with open(filename,'r') as file:\n",
    "            lines = [line.strip() for line in file.readlines()]\n",
    "        return lines\n",
    "    except:\n",
    "        print(filename+' does not exist')"
   ]
  },
  {
   "cell_type": "code",
   "execution_count": 2,
   "id": "276112ff-e250-43ba-8278-d98ad5a080f5",
   "metadata": {},
   "outputs": [
    {
     "data": {
      "text/plain": [
       "['A Y', 'B X', 'C Z']"
      ]
     },
     "execution_count": 2,
     "metadata": {},
     "output_type": "execute_result"
    }
   ],
   "source": [
    "rounds = get_lines('sample')\n",
    "rounds"
   ]
  },
  {
   "cell_type": "code",
   "execution_count": 3,
   "id": "a305a631-e969-4548-a19b-e5627d4e79ce",
   "metadata": {},
   "outputs": [],
   "source": [
    "choices = {'A':'rock', 'B':'paper', 'C':'scissors', 'X':'rock', 'Y':'paper', 'Z':'scissors'}"
   ]
  },
  {
   "cell_type": "code",
   "execution_count": 4,
   "id": "042a6b07-8d64-4211-9d3f-70d4cc0485ae",
   "metadata": {},
   "outputs": [
    {
     "data": {
      "text/plain": [
       "('paper', 'rock')"
      ]
     },
     "execution_count": 4,
     "metadata": {},
     "output_type": "execute_result"
    }
   ],
   "source": [
    "def get_plays(play):\n",
    "    '''\n",
    "    Parameters\n",
    "    ----------\n",
    "    play : str\n",
    "    \n",
    "    Returns\n",
    "    -------\n",
    "    opponent : str\n",
    "    player: str\n",
    "    '''\n",
    "    opponent = choices[play.split()[0]]\n",
    "    player = choices[play.split()[1]]\n",
    "    return opponent, player\n",
    "\n",
    "get_plays('B X')"
   ]
  },
  {
   "cell_type": "code",
   "execution_count": 5,
   "id": "839db6cc-ba1f-4c40-b8d1-396a1b9b4aad",
   "metadata": {},
   "outputs": [
    {
     "data": {
      "text/plain": [
       "0"
      ]
     },
     "execution_count": 5,
     "metadata": {},
     "output_type": "execute_result"
    }
   ],
   "source": [
    "def check_win(opponent, player):\n",
    "    if (player == 'rock') & (opponent == 'scissors'):\n",
    "        return 6\n",
    "    if (player == 'paper') & (opponent == 'rock'):\n",
    "        return 6\n",
    "    if (player == 'scissors') & (opponent == 'paper'):\n",
    "        return 6\n",
    "    else:\n",
    "        return 0\n",
    "\n",
    "check_win('rock', 'rock')"
   ]
  },
  {
   "cell_type": "code",
   "execution_count": 6,
   "id": "57435fd4-c7be-42ad-ad1d-69b9a5e9f9f3",
   "metadata": {},
   "outputs": [
    {
     "data": {
      "text/plain": [
       "0"
      ]
     },
     "execution_count": 6,
     "metadata": {},
     "output_type": "execute_result"
    }
   ],
   "source": [
    "def get_result(play):\n",
    "    '''\n",
    "    return win, tie, or loss as 6, 3, 0\n",
    "    \n",
    "    Parameters\n",
    "    ----------\n",
    "    play : str\n",
    "    \n",
    "    Returns\n",
    "    -------\n",
    "    result: int\n",
    "    '''\n",
    "    opponent, player = get_plays(play)\n",
    "    if opponent==player:\n",
    "        return 3\n",
    "    else:\n",
    "        return check_win(opponent, player)\n",
    "\n",
    "get_result('A Z')\n",
    "        \n"
   ]
  },
  {
   "cell_type": "code",
   "execution_count": 7,
   "id": "ae8ed1e0-0935-4926-a506-865bd9d1ddcc",
   "metadata": {},
   "outputs": [
    {
     "data": {
      "text/plain": [
       "1"
      ]
     },
     "execution_count": 7,
     "metadata": {},
     "output_type": "execute_result"
    }
   ],
   "source": [
    "def get_value_for_play(shape):\n",
    "    '''\n",
    "    Parameters\n",
    "    ----------\n",
    "    shape : str\n",
    "    \n",
    "    Returns\n",
    "    -------\n",
    "    value : int\n",
    "    '''\n",
    "    if shape == 'rock':\n",
    "        return 1\n",
    "    if shape == 'paper':\n",
    "        return 2\n",
    "    else: # shape == 'scissors'\n",
    "        return 3\n",
    "\n",
    "get_value_for_play('rock')"
   ]
  },
  {
   "cell_type": "code",
   "execution_count": 8,
   "id": "f346e5d4-15c2-43bc-8dce-28fe9bba9524",
   "metadata": {},
   "outputs": [],
   "source": [
    "def score_round(play):\n",
    "    '''\n",
    "    Parameters\n",
    "    ----------\n",
    "    play : str\n",
    "    \n",
    "    Returns\n",
    "    -------\n",
    "    score : int\n",
    "    '''\n",
    "    result = get_result(play)\n",
    "    _, player = get_plays(play)\n",
    "    value = get_value_for_play(player)\n",
    "    return result + value\n",
    "    "
   ]
  },
  {
   "cell_type": "code",
   "execution_count": 9,
   "id": "ccb433c8-1c77-4978-a9fa-d5cccd94186d",
   "metadata": {},
   "outputs": [
    {
     "data": {
      "text/plain": [
       "8"
      ]
     },
     "execution_count": 9,
     "metadata": {},
     "output_type": "execute_result"
    }
   ],
   "source": [
    "score_round('A Y')"
   ]
  },
  {
   "cell_type": "code",
   "execution_count": 10,
   "id": "ff354ed6-4840-4ac9-90bc-8745e08cd7b3",
   "metadata": {},
   "outputs": [
    {
     "data": {
      "text/plain": [
       "1"
      ]
     },
     "execution_count": 10,
     "metadata": {},
     "output_type": "execute_result"
    }
   ],
   "source": [
    "score_round('B X')"
   ]
  },
  {
   "cell_type": "code",
   "execution_count": 11,
   "id": "1da1675d-8fc8-4179-8284-f5e28e5656d0",
   "metadata": {},
   "outputs": [
    {
     "data": {
      "text/plain": [
       "6"
      ]
     },
     "execution_count": 11,
     "metadata": {},
     "output_type": "execute_result"
    }
   ],
   "source": [
    "score_round('C Z')"
   ]
  },
  {
   "cell_type": "code",
   "execution_count": 12,
   "id": "b461759d-6b91-432f-8ca6-a8011dfb5717",
   "metadata": {},
   "outputs": [],
   "source": [
    "def get_total_score(rounds):\n",
    "    total = 0\n",
    "    for r in rounds:\n",
    "        total += score_round(r)\n",
    "    return total"
   ]
  },
  {
   "cell_type": "code",
   "execution_count": null,
   "id": "fc5c358a-d075-4092-a1ec-ed664e3327b9",
   "metadata": {},
   "outputs": [],
   "source": []
  },
  {
   "cell_type": "code",
   "execution_count": 13,
   "id": "1540f4f9-966e-43b6-8169-29eb29f69a03",
   "metadata": {},
   "outputs": [],
   "source": [
    "rounds = get_lines('input')"
   ]
  },
  {
   "cell_type": "code",
   "execution_count": 14,
   "id": "9bcbb3bb-eb3f-4478-ad94-082a931b29e4",
   "metadata": {},
   "outputs": [
    {
     "data": {
      "text/plain": [
       "2500"
      ]
     },
     "execution_count": 14,
     "metadata": {},
     "output_type": "execute_result"
    }
   ],
   "source": [
    "len(rounds)"
   ]
  },
  {
   "cell_type": "code",
   "execution_count": 15,
   "id": "549397ce-21d1-4afd-9adb-b3c939ba25d4",
   "metadata": {},
   "outputs": [
    {
     "data": {
      "text/plain": [
       "12645"
      ]
     },
     "execution_count": 15,
     "metadata": {},
     "output_type": "execute_result"
    }
   ],
   "source": [
    "get_total_score(rounds)"
   ]
  },
  {
   "cell_type": "code",
   "execution_count": null,
   "id": "df426071-f748-471f-9506-a137820682e3",
   "metadata": {},
   "outputs": [],
   "source": []
  }
 ],
 "metadata": {
  "kernelspec": {
   "display_name": "Python 3 (ipykernel)",
   "language": "python",
   "name": "python3"
  },
  "language_info": {
   "codemirror_mode": {
    "name": "ipython",
    "version": 3
   },
   "file_extension": ".py",
   "mimetype": "text/x-python",
   "name": "python",
   "nbconvert_exporter": "python",
   "pygments_lexer": "ipython3",
   "version": "3.8.13"
  }
 },
 "nbformat": 4,
 "nbformat_minor": 5
}
